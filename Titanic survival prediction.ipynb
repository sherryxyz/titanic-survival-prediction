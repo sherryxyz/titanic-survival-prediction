{
 "cells": [
  {
   "cell_type": "markdown",
   "metadata": {
    "application/vnd.databricks.v1+cell": {
     "cellMetadata": {},
     "inputWidgets": {},
     "nuid": "5e806e88-6f03-4dac-8a14-b40dadc247e2",
     "showTitle": false,
     "title": ""
    }
   },
   "source": [
    "## Titanic - Machine Learning from Disaster Dataset using `pyspark.ml`"
   ]
  },
  {
   "cell_type": "markdown",
   "metadata": {
    "application/vnd.databricks.v1+cell": {
     "cellMetadata": {},
     "inputWidgets": {},
     "nuid": "edc8868c-4cb0-468a-bc2c-301097bcb3ab",
     "showTitle": false,
     "title": ""
    }
   },
   "source": [
    "### I. Project background and Data Information"
   ]
  },
  {
   "cell_type": "markdown",
   "metadata": {
    "application/vnd.databricks.v1+cell": {
     "cellMetadata": {},
     "inputWidgets": {},
     "nuid": "5f2a3324-bdab-438d-87d7-a6d01db8a984",
     "showTitle": false,
     "title": ""
    }
   },
   "source": [
    "This is a famous dataset for machine learning. A description of the dataset can be found at the [kaggle website](https://www.kaggle.com/c/titanic/data). In the following, we apply the logistic regression model from pyspark.ml package to this dataset. The goal is to predict the survival of passagers on board titanic, and to use the pipeline and feature engineering tools from pyspark.ml. \n",
    "\n",
    "![Data Dictionary](https://i.ibb.co/mhY89DG/titanic-datadictionary.png)"
   ]
  },
  {
   "cell_type": "markdown",
   "metadata": {
    "application/vnd.databricks.v1+cell": {
     "cellMetadata": {},
     "inputWidgets": {},
     "nuid": "6145e2d8-5884-41c3-aa87-3f34bcd08d02",
     "showTitle": false,
     "title": ""
    }
   },
   "source": [
    "1.1 Load the data into a Spark DataFrame `titanic`."
   ]
  },
  {
   "cell_type": "code",
   "execution_count": 0,
   "metadata": {
    "application/vnd.databricks.v1+cell": {
     "cellMetadata": {},
     "inputWidgets": {},
     "nuid": "3ffb99e1-8866-4ba8-83a5-7f4639805353",
     "showTitle": false,
     "title": ""
    }
   },
   "outputs": [],
   "source": [
    "titanic = spark.read.csv(\"file:/databricks/driver/titanic.csv\",inferSchema=True, header=True).cache()"
   ]
  },
  {
   "cell_type": "code",
   "execution_count": 0,
   "metadata": {
    "application/vnd.databricks.v1+cell": {
     "cellMetadata": {},
     "inputWidgets": {},
     "nuid": "b00fe9ef-ab31-4814-ab17-c9109ed37425",
     "showTitle": false,
     "title": ""
    }
   },
   "outputs": [
    {
     "output_type": "stream",
     "name": "stdout",
     "output_type": "stream",
     "text": [
      "root\n |-- PassengerId: integer (nullable = true)\n |-- Survived: integer (nullable = true)\n |-- Pclass: integer (nullable = true)\n |-- Name: string (nullable = true)\n |-- Sex: string (nullable = true)\n |-- Age: double (nullable = true)\n |-- SibSp: integer (nullable = true)\n |-- Parch: integer (nullable = true)\n |-- Ticket: string (nullable = true)\n |-- Fare: double (nullable = true)\n |-- Cabin: string (nullable = true)\n |-- Embarked: string (nullable = true)\n\n"
     ]
    },
    {
     "output_type": "display_data",
     "data": {
      "text/html": [
       "<div>\n",
       "<style scoped>\n",
       "    .dataframe tbody tr th:only-of-type {\n",
       "        vertical-align: middle;\n",
       "    }\n",
       "\n",
       "    .dataframe tbody tr th {\n",
       "        vertical-align: top;\n",
       "    }\n",
       "\n",
       "    .dataframe thead th {\n",
       "        text-align: right;\n",
       "    }\n",
       "</style>\n",
       "<table border=\"1\" class=\"dataframe\">\n",
       "  <thead>\n",
       "    <tr style=\"text-align: right;\">\n",
       "      <th></th>\n",
       "      <th>PassengerId</th>\n",
       "      <th>Survived</th>\n",
       "      <th>Pclass</th>\n",
       "      <th>Name</th>\n",
       "      <th>Sex</th>\n",
       "      <th>Age</th>\n",
       "      <th>SibSp</th>\n",
       "      <th>Parch</th>\n",
       "      <th>Ticket</th>\n",
       "      <th>Fare</th>\n",
       "      <th>Cabin</th>\n",
       "      <th>Embarked</th>\n",
       "    </tr>\n",
       "  </thead>\n",
       "  <tbody>\n",
       "    <tr>\n",
       "      <th>0</th>\n",
       "      <td>1</td>\n",
       "      <td>0</td>\n",
       "      <td>3</td>\n",
       "      <td>Braund, Mr. Owen Harris</td>\n",
       "      <td>male</td>\n",
       "      <td>22.0</td>\n",
       "      <td>1</td>\n",
       "      <td>0</td>\n",
       "      <td>A/5 21171</td>\n",
       "      <td>7.2500</td>\n",
       "      <td>None</td>\n",
       "      <td>S</td>\n",
       "    </tr>\n",
       "    <tr>\n",
       "      <th>1</th>\n",
       "      <td>2</td>\n",
       "      <td>1</td>\n",
       "      <td>1</td>\n",
       "      <td>Cumings, Mrs. John Bradley (Florence Briggs Th...</td>\n",
       "      <td>female</td>\n",
       "      <td>38.0</td>\n",
       "      <td>1</td>\n",
       "      <td>0</td>\n",
       "      <td>PC 17599</td>\n",
       "      <td>71.2833</td>\n",
       "      <td>C85</td>\n",
       "      <td>C</td>\n",
       "    </tr>\n",
       "    <tr>\n",
       "      <th>2</th>\n",
       "      <td>3</td>\n",
       "      <td>1</td>\n",
       "      <td>3</td>\n",
       "      <td>Heikkinen, Miss. Laina</td>\n",
       "      <td>female</td>\n",
       "      <td>26.0</td>\n",
       "      <td>0</td>\n",
       "      <td>0</td>\n",
       "      <td>STON/O2. 3101282</td>\n",
       "      <td>7.9250</td>\n",
       "      <td>None</td>\n",
       "      <td>S</td>\n",
       "    </tr>\n",
       "    <tr>\n",
       "      <th>3</th>\n",
       "      <td>4</td>\n",
       "      <td>1</td>\n",
       "      <td>1</td>\n",
       "      <td>Futrelle, Mrs. Jacques Heath (Lily May Peel)</td>\n",
       "      <td>female</td>\n",
       "      <td>35.0</td>\n",
       "      <td>1</td>\n",
       "      <td>0</td>\n",
       "      <td>113803</td>\n",
       "      <td>53.1000</td>\n",
       "      <td>C123</td>\n",
       "      <td>S</td>\n",
       "    </tr>\n",
       "    <tr>\n",
       "      <th>4</th>\n",
       "      <td>5</td>\n",
       "      <td>0</td>\n",
       "      <td>3</td>\n",
       "      <td>Allen, Mr. William Henry</td>\n",
       "      <td>male</td>\n",
       "      <td>35.0</td>\n",
       "      <td>0</td>\n",
       "      <td>0</td>\n",
       "      <td>373450</td>\n",
       "      <td>8.0500</td>\n",
       "      <td>None</td>\n",
       "      <td>S</td>\n",
       "    </tr>\n",
       "  </tbody>\n",
       "</table>\n",
       "</div>"
      ]
     },
     "metadata": {
      "application/vnd.databricks.v1+output": {
       "addedWidgets": {},
       "arguments": {},
       "data": "<div>\n<style scoped>\n    .dataframe tbody tr th:only-of-type {\n        vertical-align: middle;\n    }\n\n    .dataframe tbody tr th {\n        vertical-align: top;\n    }\n\n    .dataframe thead th {\n        text-align: right;\n    }\n</style>\n<table border=\"1\" class=\"dataframe\">\n  <thead>\n    <tr style=\"text-align: right;\">\n      <th></th>\n      <th>PassengerId</th>\n      <th>Survived</th>\n      <th>Pclass</th>\n      <th>Name</th>\n      <th>Sex</th>\n      <th>Age</th>\n      <th>SibSp</th>\n      <th>Parch</th>\n      <th>Ticket</th>\n      <th>Fare</th>\n      <th>Cabin</th>\n      <th>Embarked</th>\n    </tr>\n  </thead>\n  <tbody>\n    <tr>\n      <th>0</th>\n      <td>1</td>\n      <td>0</td>\n      <td>3</td>\n      <td>Braund, Mr. Owen Harris</td>\n      <td>male</td>\n      <td>22.0</td>\n      <td>1</td>\n      <td>0</td>\n      <td>A/5 21171</td>\n      <td>7.2500</td>\n      <td>None</td>\n      <td>S</td>\n    </tr>\n    <tr>\n      <th>1</th>\n      <td>2</td>\n      <td>1</td>\n      <td>1</td>\n      <td>Cumings, Mrs. John Bradley (Florence Briggs Th...</td>\n      <td>female</td>\n      <td>38.0</td>\n      <td>1</td>\n      <td>0</td>\n      <td>PC 17599</td>\n      <td>71.2833</td>\n      <td>C85</td>\n      <td>C</td>\n    </tr>\n    <tr>\n      <th>2</th>\n      <td>3</td>\n      <td>1</td>\n      <td>3</td>\n      <td>Heikkinen, Miss. Laina</td>\n      <td>female</td>\n      <td>26.0</td>\n      <td>0</td>\n      <td>0</td>\n      <td>STON/O2. 3101282</td>\n      <td>7.9250</td>\n      <td>None</td>\n      <td>S</td>\n    </tr>\n    <tr>\n      <th>3</th>\n      <td>4</td>\n      <td>1</td>\n      <td>1</td>\n      <td>Futrelle, Mrs. Jacques Heath (Lily May Peel)</td>\n      <td>female</td>\n      <td>35.0</td>\n      <td>1</td>\n      <td>0</td>\n      <td>113803</td>\n      <td>53.1000</td>\n      <td>C123</td>\n      <td>S</td>\n    </tr>\n    <tr>\n      <th>4</th>\n      <td>5</td>\n      <td>0</td>\n      <td>3</td>\n      <td>Allen, Mr. William Henry</td>\n      <td>male</td>\n      <td>35.0</td>\n      <td>0</td>\n      <td>0</td>\n      <td>373450</td>\n      <td>8.0500</td>\n      <td>None</td>\n      <td>S</td>\n    </tr>\n  </tbody>\n</table>\n</div>",
       "datasetInfos": [],
       "metadata": {},
       "removedWidgets": [],
       "textData": null,
       "type": "htmlSandbox"
      }
     },
     "output_type": "display_data"
    }
   ],
   "source": [
    "# Print Schema\n",
    "titanic.printSchema()\n",
    "\n",
    "# Display first 5 rows of data\n",
    "titanic.limit(5).toPandas()"
   ]
  },
  {
   "cell_type": "markdown",
   "metadata": {
    "application/vnd.databricks.v1+cell": {
     "cellMetadata": {},
     "inputWidgets": {},
     "nuid": "c420d17c-acac-4d6d-bddd-0c325d4c931e",
     "showTitle": false,
     "title": ""
    }
   },
   "source": [
    "### II. Data exploration\n",
    "- detect data problems\n",
    "- inform the data engineering steps\n",
    "- inform the feature selection"
   ]
  },
  {
   "cell_type": "markdown",
   "metadata": {
    "application/vnd.databricks.v1+cell": {
     "cellMetadata": {},
     "inputWidgets": {},
     "nuid": "7dbd52b2-24e1-4bc0-a4f5-a29fba977fc0",
     "showTitle": false,
     "title": ""
    }
   },
   "source": [
    "Obtain summary statistics on the dataframe, which will inform our data processing strategies"
   ]
  },
  {
   "cell_type": "code",
   "execution_count": 0,
   "metadata": {
    "application/vnd.databricks.v1+cell": {
     "cellMetadata": {},
     "inputWidgets": {},
     "nuid": "46a584b8-5bf7-4739-a711-c071678741d1",
     "showTitle": false,
     "title": ""
    }
   },
   "outputs": [
    {
     "output_type": "display_data",
     "data": {
      "text/html": [
       "<style scoped>\n",
       "  .table-result-container {\n",
       "    max-height: 300px;\n",
       "    overflow: auto;\n",
       "  }\n",
       "  table, th, td {\n",
       "    border: 1px solid black;\n",
       "    border-collapse: collapse;\n",
       "  }\n",
       "  th, td {\n",
       "    padding: 5px;\n",
       "  }\n",
       "  th {\n",
       "    text-align: left;\n",
       "  }\n",
       "</style><div class='table-result-container'><table class='table-result'><thead style='background-color: white'><tr><th>summary</th><th>PassengerId</th><th>Survived</th><th>Pclass</th><th>Name</th><th>Sex</th><th>Age</th><th>SibSp</th><th>Parch</th><th>Ticket</th><th>Fare</th><th>Cabin</th><th>Embarked</th></tr></thead><tbody><tr><td>count</td><td>891</td><td>891</td><td>891</td><td>891</td><td>891</td><td>714</td><td>891</td><td>891</td><td>891</td><td>891</td><td>204</td><td>889</td></tr><tr><td>mean</td><td>446.0</td><td>0.3838383838383838</td><td>2.308641975308642</td><td>null</td><td>null</td><td>29.69911764705882</td><td>0.5230078563411896</td><td>0.38159371492704824</td><td>260318.54916792738</td><td>32.2042079685746</td><td>null</td><td>null</td></tr><tr><td>stddev</td><td>257.3538420152301</td><td>0.48659245426485753</td><td>0.8360712409770491</td><td>null</td><td>null</td><td>14.526497332334035</td><td>1.1027434322934315</td><td>0.8060572211299488</td><td>471609.26868834975</td><td>49.69342859718089</td><td>null</td><td>null</td></tr><tr><td>min</td><td>1</td><td>0</td><td>1</td><td>\"Andersson, Mr. August Edvard (\"\"Wennerstrom\"\")\"</td><td>female</td><td>0.42</td><td>0</td><td>0</td><td>110152</td><td>0.0</td><td>A10</td><td>C</td></tr><tr><td>max</td><td>891</td><td>1</td><td>3</td><td>van Melkebeke, Mr. Philemon</td><td>male</td><td>80.0</td><td>8</td><td>6</td><td>WE/P 5735</td><td>512.3292</td><td>T</td><td>S</td></tr></tbody></table></div>"
      ]
     },
     "metadata": {
      "application/vnd.databricks.v1+output": {
       "addedWidgets": {},
       "aggData": [],
       "aggError": "",
       "aggOverflow": false,
       "aggSchema": [],
       "aggSeriesLimitReached": false,
       "aggType": "",
       "arguments": {},
       "columnCustomDisplayInfos": {},
       "data": [
        [
         "count",
         "891",
         "891",
         "891",
         "891",
         "891",
         "714",
         "891",
         "891",
         "891",
         "891",
         "204",
         "889"
        ],
        [
         "mean",
         "446.0",
         "0.3838383838383838",
         "2.308641975308642",
         null,
         null,
         "29.69911764705882",
         "0.5230078563411896",
         "0.38159371492704824",
         "260318.54916792738",
         "32.2042079685746",
         null,
         null
        ],
        [
         "stddev",
         "257.3538420152301",
         "0.48659245426485753",
         "0.8360712409770491",
         null,
         null,
         "14.526497332334035",
         "1.1027434322934315",
         "0.8060572211299488",
         "471609.26868834975",
         "49.69342859718089",
         null,
         null
        ],
        [
         "min",
         "1",
         "0",
         "1",
         "\"Andersson, Mr. August Edvard (\"\"Wennerstrom\"\")\"",
         "female",
         "0.42",
         "0",
         "0",
         "110152",
         "0.0",
         "A10",
         "C"
        ],
        [
         "max",
         "891",
         "1",
         "3",
         "van Melkebeke, Mr. Philemon",
         "male",
         "80.0",
         "8",
         "6",
         "WE/P 5735",
         "512.3292",
         "T",
         "S"
        ]
       ],
       "datasetInfos": [],
       "dbfsResultPath": null,
       "isJsonSchema": true,
       "metadata": {},
       "overflow": false,
       "plotOptions": {
        "customPlotOptions": {},
        "displayType": "table",
        "pivotAggregation": null,
        "pivotColumns": null,
        "xColumns": null,
        "yColumns": null
       },
       "removedWidgets": [],
       "schema": [
        {
         "metadata": "{}",
         "name": "summary",
         "type": "\"string\""
        },
        {
         "metadata": "{}",
         "name": "PassengerId",
         "type": "\"string\""
        },
        {
         "metadata": "{}",
         "name": "Survived",
         "type": "\"string\""
        },
        {
         "metadata": "{}",
         "name": "Pclass",
         "type": "\"string\""
        },
        {
         "metadata": "{}",
         "name": "Name",
         "type": "\"string\""
        },
        {
         "metadata": "{}",
         "name": "Sex",
         "type": "\"string\""
        },
        {
         "metadata": "{}",
         "name": "Age",
         "type": "\"string\""
        },
        {
         "metadata": "{}",
         "name": "SibSp",
         "type": "\"string\""
        },
        {
         "metadata": "{}",
         "name": "Parch",
         "type": "\"string\""
        },
        {
         "metadata": "{}",
         "name": "Ticket",
         "type": "\"string\""
        },
        {
         "metadata": "{}",
         "name": "Fare",
         "type": "\"string\""
        },
        {
         "metadata": "{}",
         "name": "Cabin",
         "type": "\"string\""
        },
        {
         "metadata": "{}",
         "name": "Embarked",
         "type": "\"string\""
        }
       ],
       "type": "table"
      }
     },
     "output_type": "display_data"
    }
   ],
   "source": [
    "# obtain descriptive statistics\n",
    "titanic.describe().display()"
   ]
  },
  {
   "cell_type": "code",
   "execution_count": 0,
   "metadata": {
    "application/vnd.databricks.v1+cell": {
     "cellMetadata": {},
     "inputWidgets": {},
     "nuid": "26423e78-b8aa-4270-93ba-1b5c7c79c0d3",
     "showTitle": false,
     "title": ""
    }
   },
   "outputs": [
    {
     "output_type": "stream",
     "name": "stdout",
     "output_type": "stream",
     "text": [
      "PassengerId 0\nSurvived 0\nPclass 0\nName 0\nSex 0\nAge 177\nSibSp 0\nParch 0\nTicket 0\nFare 0\nCabin 687\nEmbarked 2\n"
     ]
    }
   ],
   "source": [
    "# checking missing value\n",
    "for c in titanic.columns:\n",
    "  print(c,titanic.filter(titanic[c].isNull()).count())"
   ]
  },
  {
   "cell_type": "markdown",
   "metadata": {
    "application/vnd.databricks.v1+cell": {
     "cellMetadata": {},
     "inputWidgets": {},
     "nuid": "ee0caf3f-2522-4ac8-a9b7-d39dd43ae788",
     "showTitle": false,
     "title": ""
    }
   },
   "source": [
    "We can observe that Age, Cabin, and Embarked have missing values."
   ]
  },
  {
   "cell_type": "code",
   "execution_count": 0,
   "metadata": {
    "application/vnd.databricks.v1+cell": {
     "cellMetadata": {},
     "inputWidgets": {},
     "nuid": "b797a8b6-3163-4e58-93b8-78173569c5f3",
     "showTitle": false,
     "title": ""
    }
   },
   "outputs": [],
   "source": [
    "import pyspark.sql.functions as f\n",
    "\n",
    "def count_sort(col):\n",
    "   return titanic_cat.select(col).groupBy(col).agg(f.count(col).alias(\"count\")).sort(\"count\",ascending=False).limit(10)"
   ]
  },
  {
   "cell_type": "markdown",
   "metadata": {
    "application/vnd.databricks.v1+cell": {
     "cellMetadata": {},
     "inputWidgets": {},
     "nuid": "f4a3fffd-b847-4c92-8353-a7185adcf228",
     "showTitle": false,
     "title": ""
    }
   },
   "source": [
    "We can observe that:\n",
    "\n",
    "  > Continuous:\n",
    "  * Age\n",
    "  * Fare\n",
    "  \n",
    "  > Discrete:\n",
    "  * SibSp\n",
    "  * Parch"
   ]
  },
  {
   "cell_type": "code",
   "execution_count": 0,
   "metadata": {
    "application/vnd.databricks.v1+cell": {
     "cellMetadata": {},
     "inputWidgets": {},
     "nuid": "dd374479-37ac-4052-989c-ad2a93bef323",
     "showTitle": false,
     "title": ""
    }
   },
   "outputs": [],
   "source": [
    "# Select the categorical columns that is needed\n",
    "titanic_cat = titanic.select(\"PassengerId\",\"Survived\",\"Pclass\",\"Sex\",\"SibSp\",\"Parch\",\"Cabin\",\"Embarked\")"
   ]
  },
  {
   "cell_type": "code",
   "execution_count": 0,
   "metadata": {
    "application/vnd.databricks.v1+cell": {
     "cellMetadata": {},
     "inputWidgets": {},
     "nuid": "c30b1bfb-e0df-47d3-8bc5-b4d1ee681afb",
     "showTitle": false,
     "title": ""
    }
   },
   "outputs": [
    {
     "output_type": "display_data",
     "data": {
      "text/html": [
       "<style scoped>\n",
       "  .table-result-container {\n",
       "    max-height: 300px;\n",
       "    overflow: auto;\n",
       "  }\n",
       "  table, th, td {\n",
       "    border: 1px solid black;\n",
       "    border-collapse: collapse;\n",
       "  }\n",
       "  th, td {\n",
       "    padding: 5px;\n",
       "  }\n",
       "  th {\n",
       "    text-align: left;\n",
       "  }\n",
       "</style><div class='table-result-container'><table class='table-result'><thead style='background-color: white'><tr><th>PassengerId</th><th>count</th></tr></thead><tbody><tr><td>148</td><td>1</td></tr><tr><td>463</td><td>1</td></tr><tr><td>471</td><td>1</td></tr><tr><td>496</td><td>1</td></tr><tr><td>833</td><td>1</td></tr><tr><td>243</td><td>1</td></tr><tr><td>392</td><td>1</td></tr><tr><td>540</td><td>1</td></tr><tr><td>623</td><td>1</td></tr><tr><td>737</td><td>1</td></tr></tbody></table></div>"
      ]
     },
     "metadata": {
      "application/vnd.databricks.v1+output": {
       "addedWidgets": {},
       "aggData": [],
       "aggError": "",
       "aggOverflow": false,
       "aggSchema": [],
       "aggSeriesLimitReached": false,
       "aggType": "",
       "arguments": {},
       "columnCustomDisplayInfos": {},
       "data": [
        [
         148,
         1
        ],
        [
         463,
         1
        ],
        [
         471,
         1
        ],
        [
         496,
         1
        ],
        [
         833,
         1
        ],
        [
         243,
         1
        ],
        [
         392,
         1
        ],
        [
         540,
         1
        ],
        [
         623,
         1
        ],
        [
         737,
         1
        ]
       ],
       "datasetInfos": [],
       "dbfsResultPath": null,
       "isJsonSchema": true,
       "metadata": {},
       "overflow": false,
       "plotOptions": {
        "customPlotOptions": {},
        "displayType": "table",
        "pivotAggregation": null,
        "pivotColumns": null,
        "xColumns": null,
        "yColumns": null
       },
       "removedWidgets": [],
       "schema": [
        {
         "metadata": "{}",
         "name": "PassengerId",
         "type": "\"integer\""
        },
        {
         "metadata": "{}",
         "name": "count",
         "type": "\"long\""
        }
       ],
       "type": "table"
      }
     },
     "output_type": "display_data"
    },
    {
     "output_type": "display_data",
     "data": {
      "text/html": [
       "<style scoped>\n",
       "  .table-result-container {\n",
       "    max-height: 300px;\n",
       "    overflow: auto;\n",
       "  }\n",
       "  table, th, td {\n",
       "    border: 1px solid black;\n",
       "    border-collapse: collapse;\n",
       "  }\n",
       "  th, td {\n",
       "    padding: 5px;\n",
       "  }\n",
       "  th {\n",
       "    text-align: left;\n",
       "  }\n",
       "</style><div class='table-result-container'><table class='table-result'><thead style='background-color: white'><tr><th>Survived</th><th>count</th></tr></thead><tbody><tr><td>0</td><td>549</td></tr><tr><td>1</td><td>342</td></tr></tbody></table></div>"
      ]
     },
     "metadata": {
      "application/vnd.databricks.v1+output": {
       "addedWidgets": {},
       "aggData": [],
       "aggError": "",
       "aggOverflow": false,
       "aggSchema": [],
       "aggSeriesLimitReached": false,
       "aggType": "",
       "arguments": {},
       "columnCustomDisplayInfos": {},
       "data": [
        [
         0,
         549
        ],
        [
         1,
         342
        ]
       ],
       "datasetInfos": [],
       "dbfsResultPath": null,
       "isJsonSchema": true,
       "metadata": {},
       "overflow": false,
       "plotOptions": {
        "customPlotOptions": {},
        "displayType": "table",
        "pivotAggregation": null,
        "pivotColumns": null,
        "xColumns": null,
        "yColumns": null
       },
       "removedWidgets": [],
       "schema": [
        {
         "metadata": "{}",
         "name": "Survived",
         "type": "\"integer\""
        },
        {
         "metadata": "{}",
         "name": "count",
         "type": "\"long\""
        }
       ],
       "type": "table"
      }
     },
     "output_type": "display_data"
    },
    {
     "output_type": "display_data",
     "data": {
      "text/html": [
       "<style scoped>\n",
       "  .table-result-container {\n",
       "    max-height: 300px;\n",
       "    overflow: auto;\n",
       "  }\n",
       "  table, th, td {\n",
       "    border: 1px solid black;\n",
       "    border-collapse: collapse;\n",
       "  }\n",
       "  th, td {\n",
       "    padding: 5px;\n",
       "  }\n",
       "  th {\n",
       "    text-align: left;\n",
       "  }\n",
       "</style><div class='table-result-container'><table class='table-result'><thead style='background-color: white'><tr><th>Pclass</th><th>count</th></tr></thead><tbody><tr><td>3</td><td>491</td></tr><tr><td>1</td><td>216</td></tr><tr><td>2</td><td>184</td></tr></tbody></table></div>"
      ]
     },
     "metadata": {
      "application/vnd.databricks.v1+output": {
       "addedWidgets": {},
       "aggData": [],
       "aggError": "",
       "aggOverflow": false,
       "aggSchema": [],
       "aggSeriesLimitReached": false,
       "aggType": "",
       "arguments": {},
       "columnCustomDisplayInfos": {},
       "data": [
        [
         3,
         491
        ],
        [
         1,
         216
        ],
        [
         2,
         184
        ]
       ],
       "datasetInfos": [],
       "dbfsResultPath": null,
       "isJsonSchema": true,
       "metadata": {},
       "overflow": false,
       "plotOptions": {
        "customPlotOptions": {},
        "displayType": "table",
        "pivotAggregation": null,
        "pivotColumns": null,
        "xColumns": null,
        "yColumns": null
       },
       "removedWidgets": [],
       "schema": [
        {
         "metadata": "{}",
         "name": "Pclass",
         "type": "\"integer\""
        },
        {
         "metadata": "{}",
         "name": "count",
         "type": "\"long\""
        }
       ],
       "type": "table"
      }
     },
     "output_type": "display_data"
    },
    {
     "output_type": "display_data",
     "data": {
      "text/html": [
       "<style scoped>\n",
       "  .table-result-container {\n",
       "    max-height: 300px;\n",
       "    overflow: auto;\n",
       "  }\n",
       "  table, th, td {\n",
       "    border: 1px solid black;\n",
       "    border-collapse: collapse;\n",
       "  }\n",
       "  th, td {\n",
       "    padding: 5px;\n",
       "  }\n",
       "  th {\n",
       "    text-align: left;\n",
       "  }\n",
       "</style><div class='table-result-container'><table class='table-result'><thead style='background-color: white'><tr><th>Sex</th><th>count</th></tr></thead><tbody><tr><td>male</td><td>577</td></tr><tr><td>female</td><td>314</td></tr></tbody></table></div>"
      ]
     },
     "metadata": {
      "application/vnd.databricks.v1+output": {
       "addedWidgets": {},
       "aggData": [],
       "aggError": "",
       "aggOverflow": false,
       "aggSchema": [],
       "aggSeriesLimitReached": false,
       "aggType": "",
       "arguments": {},
       "columnCustomDisplayInfos": {},
       "data": [
        [
         "male",
         577
        ],
        [
         "female",
         314
        ]
       ],
       "datasetInfos": [],
       "dbfsResultPath": null,
       "isJsonSchema": true,
       "metadata": {},
       "overflow": false,
       "plotOptions": {
        "customPlotOptions": {},
        "displayType": "table",
        "pivotAggregation": null,
        "pivotColumns": null,
        "xColumns": null,
        "yColumns": null
       },
       "removedWidgets": [],
       "schema": [
        {
         "metadata": "{}",
         "name": "Sex",
         "type": "\"string\""
        },
        {
         "metadata": "{}",
         "name": "count",
         "type": "\"long\""
        }
       ],
       "type": "table"
      }
     },
     "output_type": "display_data"
    },
    {
     "output_type": "display_data",
     "data": {
      "text/html": [
       "<style scoped>\n",
       "  .table-result-container {\n",
       "    max-height: 300px;\n",
       "    overflow: auto;\n",
       "  }\n",
       "  table, th, td {\n",
       "    border: 1px solid black;\n",
       "    border-collapse: collapse;\n",
       "  }\n",
       "  th, td {\n",
       "    padding: 5px;\n",
       "  }\n",
       "  th {\n",
       "    text-align: left;\n",
       "  }\n",
       "</style><div class='table-result-container'><table class='table-result'><thead style='background-color: white'><tr><th>SibSp</th><th>count</th></tr></thead><tbody><tr><td>0</td><td>608</td></tr><tr><td>1</td><td>209</td></tr><tr><td>2</td><td>28</td></tr><tr><td>4</td><td>18</td></tr><tr><td>3</td><td>16</td></tr><tr><td>8</td><td>7</td></tr><tr><td>5</td><td>5</td></tr></tbody></table></div>"
      ]
     },
     "metadata": {
      "application/vnd.databricks.v1+output": {
       "addedWidgets": {},
       "aggData": [],
       "aggError": "",
       "aggOverflow": false,
       "aggSchema": [],
       "aggSeriesLimitReached": false,
       "aggType": "",
       "arguments": {},
       "columnCustomDisplayInfos": {},
       "data": [
        [
         0,
         608
        ],
        [
         1,
         209
        ],
        [
         2,
         28
        ],
        [
         4,
         18
        ],
        [
         3,
         16
        ],
        [
         8,
         7
        ],
        [
         5,
         5
        ]
       ],
       "datasetInfos": [],
       "dbfsResultPath": null,
       "isJsonSchema": true,
       "metadata": {},
       "overflow": false,
       "plotOptions": {
        "customPlotOptions": {},
        "displayType": "table",
        "pivotAggregation": null,
        "pivotColumns": null,
        "xColumns": null,
        "yColumns": null
       },
       "removedWidgets": [],
       "schema": [
        {
         "metadata": "{}",
         "name": "SibSp",
         "type": "\"integer\""
        },
        {
         "metadata": "{}",
         "name": "count",
         "type": "\"long\""
        }
       ],
       "type": "table"
      }
     },
     "output_type": "display_data"
    },
    {
     "output_type": "display_data",
     "data": {
      "text/html": [
       "<style scoped>\n",
       "  .table-result-container {\n",
       "    max-height: 300px;\n",
       "    overflow: auto;\n",
       "  }\n",
       "  table, th, td {\n",
       "    border: 1px solid black;\n",
       "    border-collapse: collapse;\n",
       "  }\n",
       "  th, td {\n",
       "    padding: 5px;\n",
       "  }\n",
       "  th {\n",
       "    text-align: left;\n",
       "  }\n",
       "</style><div class='table-result-container'><table class='table-result'><thead style='background-color: white'><tr><th>Parch</th><th>count</th></tr></thead><tbody><tr><td>0</td><td>678</td></tr><tr><td>1</td><td>118</td></tr><tr><td>2</td><td>80</td></tr><tr><td>5</td><td>5</td></tr><tr><td>3</td><td>5</td></tr><tr><td>4</td><td>4</td></tr><tr><td>6</td><td>1</td></tr></tbody></table></div>"
      ]
     },
     "metadata": {
      "application/vnd.databricks.v1+output": {
       "addedWidgets": {},
       "aggData": [],
       "aggError": "",
       "aggOverflow": false,
       "aggSchema": [],
       "aggSeriesLimitReached": false,
       "aggType": "",
       "arguments": {},
       "columnCustomDisplayInfos": {},
       "data": [
        [
         0,
         678
        ],
        [
         1,
         118
        ],
        [
         2,
         80
        ],
        [
         5,
         5
        ],
        [
         3,
         5
        ],
        [
         4,
         4
        ],
        [
         6,
         1
        ]
       ],
       "datasetInfos": [],
       "dbfsResultPath": null,
       "isJsonSchema": true,
       "metadata": {},
       "overflow": false,
       "plotOptions": {
        "customPlotOptions": {},
        "displayType": "table",
        "pivotAggregation": null,
        "pivotColumns": null,
        "xColumns": null,
        "yColumns": null
       },
       "removedWidgets": [],
       "schema": [
        {
         "metadata": "{}",
         "name": "Parch",
         "type": "\"integer\""
        },
        {
         "metadata": "{}",
         "name": "count",
         "type": "\"long\""
        }
       ],
       "type": "table"
      }
     },
     "output_type": "display_data"
    },
    {
     "output_type": "display_data",
     "data": {
      "text/html": [
       "<style scoped>\n",
       "  .table-result-container {\n",
       "    max-height: 300px;\n",
       "    overflow: auto;\n",
       "  }\n",
       "  table, th, td {\n",
       "    border: 1px solid black;\n",
       "    border-collapse: collapse;\n",
       "  }\n",
       "  th, td {\n",
       "    padding: 5px;\n",
       "  }\n",
       "  th {\n",
       "    text-align: left;\n",
       "  }\n",
       "</style><div class='table-result-container'><table class='table-result'><thead style='background-color: white'><tr><th>Cabin</th><th>count</th></tr></thead><tbody><tr><td>C23 C25 C27</td><td>4</td></tr><tr><td>G6</td><td>4</td></tr><tr><td>B96 B98</td><td>4</td></tr><tr><td>D</td><td>3</td></tr><tr><td>C22 C26</td><td>3</td></tr><tr><td>F2</td><td>3</td></tr><tr><td>E101</td><td>3</td></tr><tr><td>F33</td><td>3</td></tr><tr><td>C65</td><td>2</td></tr><tr><td>B51 B53 B55</td><td>2</td></tr></tbody></table></div>"
      ]
     },
     "metadata": {
      "application/vnd.databricks.v1+output": {
       "addedWidgets": {},
       "aggData": [],
       "aggError": "",
       "aggOverflow": false,
       "aggSchema": [],
       "aggSeriesLimitReached": false,
       "aggType": "",
       "arguments": {},
       "columnCustomDisplayInfos": {},
       "data": [
        [
         "C23 C25 C27",
         4
        ],
        [
         "G6",
         4
        ],
        [
         "B96 B98",
         4
        ],
        [
         "D",
         3
        ],
        [
         "C22 C26",
         3
        ],
        [
         "F2",
         3
        ],
        [
         "E101",
         3
        ],
        [
         "F33",
         3
        ],
        [
         "C65",
         2
        ],
        [
         "B51 B53 B55",
         2
        ]
       ],
       "datasetInfos": [],
       "dbfsResultPath": null,
       "isJsonSchema": true,
       "metadata": {},
       "overflow": false,
       "plotOptions": {
        "customPlotOptions": {},
        "displayType": "table",
        "pivotAggregation": null,
        "pivotColumns": null,
        "xColumns": null,
        "yColumns": null
       },
       "removedWidgets": [],
       "schema": [
        {
         "metadata": "{}",
         "name": "Cabin",
         "type": "\"string\""
        },
        {
         "metadata": "{}",
         "name": "count",
         "type": "\"long\""
        }
       ],
       "type": "table"
      }
     },
     "output_type": "display_data"
    },
    {
     "output_type": "display_data",
     "data": {
      "text/html": [
       "<style scoped>\n",
       "  .table-result-container {\n",
       "    max-height: 300px;\n",
       "    overflow: auto;\n",
       "  }\n",
       "  table, th, td {\n",
       "    border: 1px solid black;\n",
       "    border-collapse: collapse;\n",
       "  }\n",
       "  th, td {\n",
       "    padding: 5px;\n",
       "  }\n",
       "  th {\n",
       "    text-align: left;\n",
       "  }\n",
       "</style><div class='table-result-container'><table class='table-result'><thead style='background-color: white'><tr><th>Embarked</th><th>count</th></tr></thead><tbody><tr><td>S</td><td>644</td></tr><tr><td>C</td><td>168</td></tr><tr><td>Q</td><td>77</td></tr><tr><td>null</td><td>0</td></tr></tbody></table></div>"
      ]
     },
     "metadata": {
      "application/vnd.databricks.v1+output": {
       "addedWidgets": {},
       "aggData": [],
       "aggError": "",
       "aggOverflow": false,
       "aggSchema": [],
       "aggSeriesLimitReached": false,
       "aggType": "",
       "arguments": {},
       "columnCustomDisplayInfos": {},
       "data": [
        [
         "S",
         644
        ],
        [
         "C",
         168
        ],
        [
         "Q",
         77
        ],
        [
         null,
         0
        ]
       ],
       "datasetInfos": [],
       "dbfsResultPath": null,
       "isJsonSchema": true,
       "metadata": {},
       "overflow": false,
       "plotOptions": {
        "customPlotOptions": {},
        "displayType": "table",
        "pivotAggregation": null,
        "pivotColumns": null,
        "xColumns": null,
        "yColumns": null
       },
       "removedWidgets": [],
       "schema": [
        {
         "metadata": "{}",
         "name": "Embarked",
         "type": "\"string\""
        },
        {
         "metadata": "{}",
         "name": "count",
         "type": "\"long\""
        }
       ],
       "type": "table"
      }
     },
     "output_type": "display_data"
    }
   ],
   "source": [
    "# using a for loop to apply the count_sort() function for each column and get the top 10 frequency\n",
    "for c in titanic_cat.columns:\n",
    "  display(count_sort(f.col(c)))"
   ]
  },
  {
   "cell_type": "markdown",
   "metadata": {
    "application/vnd.databricks.v1+cell": {
     "cellMetadata": {},
     "inputWidgets": {},
     "nuid": "5048bfd9-1f80-43fb-a256-0855167b6155",
     "showTitle": false,
     "title": ""
    }
   },
   "source": [
    "**Distribution of numerical columns**:"
   ]
  },
  {
   "cell_type": "code",
   "execution_count": 0,
   "metadata": {
    "application/vnd.databricks.v1+cell": {
     "cellMetadata": {},
     "inputWidgets": {},
     "nuid": "4e2e3d6d-736b-4b69-bff9-d6f25e2e3ec5",
     "showTitle": false,
     "title": ""
    }
   },
   "outputs": [
    {
     "output_type": "display_data",
     "data": {
      "text/html": [
       "<style scoped>\n",
       "  .table-result-container {\n",
       "    max-height: 300px;\n",
       "    overflow: auto;\n",
       "  }\n",
       "  table, th, td {\n",
       "    border: 1px solid black;\n",
       "    border-collapse: collapse;\n",
       "  }\n",
       "  th, td {\n",
       "    padding: 5px;\n",
       "  }\n",
       "  th {\n",
       "    text-align: left;\n",
       "  }\n",
       "</style><div class='table-result-container'><table class='table-result'><thead style='background-color: white'><tr><th>Age</th></tr></thead><tbody><tr><td>22.0</td></tr><tr><td>35.0</td></tr><tr><td>35.0</td></tr><tr><td>2.0</td></tr><tr><td>27.0</td></tr><tr><td>14.0</td></tr><tr><td>4.0</td></tr><tr><td>58.0</td></tr><tr><td>20.0</td></tr><tr><td>39.0</td></tr><tr><td>14.0</td></tr><tr><td>55.0</td></tr><tr><td>35.0</td></tr><tr><td>34.0</td></tr><tr><td>15.0</td></tr><tr><td>38.0</td></tr><tr><td>null</td></tr><tr><td>19.0</td></tr><tr><td>null</td></tr><tr><td>40.0</td></tr><tr><td>null</td></tr><tr><td>66.0</td></tr><tr><td>42.0</td></tr><tr><td>null</td></tr><tr><td>18.0</td></tr><tr><td>27.0</td></tr><tr><td>null</td></tr><tr><td>null</td></tr><tr><td>null</td></tr><tr><td>18.0</td></tr><tr><td>7.0</td></tr><tr><td>21.0</td></tr><tr><td>29.0</td></tr><tr><td>65.0</td></tr><tr><td>null</td></tr><tr><td>null</td></tr><tr><td>null</td></tr><tr><td>19.0</td></tr><tr><td>17.0</td></tr><tr><td>16.0</td></tr><tr><td>21.0</td></tr><tr><td>26.0</td></tr><tr><td>25.0</td></tr><tr><td>22.0</td></tr><tr><td>29.0</td></tr><tr><td>28.0</td></tr><tr><td>null</td></tr><tr><td>24.0</td></tr><tr><td>29.0</td></tr><tr><td>26.0</td></tr><tr><td>59.0</td></tr><tr><td>71.0</td></tr><tr><td>34.0</td></tr><tr><td>34.0</td></tr><tr><td>28.0</td></tr><tr><td>null</td></tr><tr><td>37.0</td></tr><tr><td>28.0</td></tr><tr><td>21.0</td></tr><tr><td>38.0</td></tr><tr><td>47.0</td></tr><tr><td>22.0</td></tr><tr><td>20.0</td></tr><tr><td>17.0</td></tr><tr><td>70.5</td></tr><tr><td>32.5</td></tr><tr><td>54.0</td></tr><tr><td>12.0</td></tr><tr><td>null</td></tr><tr><td>24.0</td></tr><tr><td>null</td></tr><tr><td>45.0</td></tr><tr><td>33.0</td></tr><tr><td>20.0</td></tr><tr><td>47.0</td></tr><tr><td>29.0</td></tr><tr><td>19.0</td></tr><tr><td>16.0</td></tr><tr><td>24.0</td></tr><tr><td>null</td></tr><tr><td>22.0</td></tr><tr><td>24.0</td></tr><tr><td>9.0</td></tr><tr><td>42.0</td></tr><tr><td>51.0</td></tr><tr><td>40.5</td></tr><tr><td>null</td></tr><tr><td>44.0</td></tr><tr><td>17.0</td></tr><tr><td>9.0</td></tr><tr><td>45.0</td></tr><tr><td>null</td></tr><tr><td>28.0</td></tr><tr><td>61.0</td></tr><tr><td>4.0</td></tr><tr><td>21.0</td></tr><tr><td>18.0</td></tr><tr><td>null</td></tr><tr><td>36.0</td></tr><tr><td>null</td></tr><tr><td>1.0</td></tr><tr><td>45.0</td></tr><tr><td>40.0</td></tr><tr><td>36.0</td></tr><tr><td>32.0</td></tr><tr><td>19.0</td></tr><tr><td>42.0</td></tr><tr><td>null</td></tr><tr><td>28.0</td></tr><tr><td>45.5</td></tr><tr><td>2.0</td></tr><tr><td>26.0</td></tr><tr><td>40.0</td></tr><tr><td>null</td></tr><tr><td>31.0</td></tr><tr><td>42.0</td></tr><tr><td>32.0</td></tr><tr><td>30.0</td></tr><tr><td>null</td></tr><tr><td>38.0</td></tr><tr><td>22.0</td></tr><tr><td>19.0</td></tr><tr><td>18.0</td></tr><tr><td>null</td></tr><tr><td>35.0</td></tr><tr><td>29.0</td></tr><tr><td>null</td></tr><tr><td>44.0</td></tr><tr><td>19.0</td></tr><tr><td>29.0</td></tr><tr><td>30.0</td></tr><tr><td>44.0</td></tr><tr><td>25.0</td></tr><tr><td>29.0</td></tr><tr><td>29.0</td></tr><tr><td>52.0</td></tr><tr><td>40.0</td></tr><tr><td>null</td></tr><tr><td>37.0</td></tr><tr><td>null</td></tr><tr><td>null</td></tr><tr><td>28.0</td></tr><tr><td>null</td></tr><tr><td>22.0</td></tr><tr><td>36.0</td></tr><tr><td>24.0</td></tr><tr><td>null</td></tr><tr><td>23.5</td></tr><tr><td>null</td></tr><tr><td>null</td></tr><tr><td>19.0</td></tr><tr><td>null</td></tr><tr><td>null</td></tr><tr><td>17.0</td></tr><tr><td>30.0</td></tr><tr><td>24.0</td></tr><tr><td>18.0</td></tr><tr><td>28.0</td></tr><tr><td>43.0</td></tr><tr><td>26.0</td></tr><tr><td>40.0</td></tr><tr><td>22.0</td></tr><tr><td>27.0</td></tr><tr><td>30.0</td></tr><tr><td>22.0</td></tr><tr><td>36.0</td></tr><tr><td>16.0</td></tr><tr><td>null</td></tr><tr><td>null</td></tr><tr><td>45.0</td></tr><tr><td>45.0</td></tr><tr><td>24.0</td></tr><tr><td>40.0</td></tr><tr><td>null</td></tr><tr><td>42.0</td></tr><tr><td>15.0</td></tr><tr><td>25.0</td></tr><tr><td>null</td></tr><tr><td>28.0</td></tr><tr><td>22.0</td></tr><tr><td>null</td></tr><tr><td>null</td></tr><tr><td>40.0</td></tr><tr><td>29.0</td></tr><tr><td>45.0</td></tr><tr><td>35.0</td></tr><tr><td>60.0</td></tr><tr><td>null</td></tr><tr><td>25.0</td></tr><tr><td>18.0</td></tr><tr><td>22.0</td></tr><tr><td>22.0</td></tr><tr><td>20.0</td></tr><tr><td>1.0</td></tr><tr><td>null</td></tr><tr><td>36.0</td></tr><tr><td>17.0</td></tr><tr><td>28.0</td></tr><tr><td>23.0</td></tr><tr><td>24.0</td></tr><tr><td>28.0</td></tr><tr><td>39.0</td></tr><tr><td>26.0</td></tr><tr><td>21.0</td></tr><tr><td>3.0</td></tr><tr><td>21.0</td></tr><tr><td>44.0</td></tr><tr><td>34.0</td></tr><tr><td>30.0</td></tr><tr><td>10.0</td></tr><tr><td>null</td></tr><tr><td>21.0</td></tr><tr><td>18.0</td></tr><tr><td>null</td></tr><tr><td>null</td></tr><tr><td>null</td></tr><tr><td>42.0</td></tr><tr><td>14.0</td></tr><tr><td>24.0</td></tr><tr><td>64.0</td></tr><tr><td>31.0</td></tr><tr><td>25.0</td></tr><tr><td>34.0</td></tr><tr><td>5.0</td></tr><tr><td>52.0</td></tr><tr><td>null</td></tr><tr><td>49.0</td></tr><tr><td>null</td></tr><tr><td>29.0</td></tr><tr><td>65.0</td></tr><tr><td>48.0</td></tr><tr><td>47.0</td></tr><tr><td>null</td></tr><tr><td>38.0</td></tr><tr><td>null</td></tr><tr><td>null</td></tr><tr><td>23.0</td></tr><tr><td>29.0</td></tr><tr><td>22.0</td></tr><tr><td>2.0</td></tr><tr><td>9.0</td></tr><tr><td>50.0</td></tr><tr><td>30.0</td></tr><tr><td>21.0</td></tr><tr><td>null</td></tr><tr><td>null</td></tr><tr><td>25.0</td></tr><tr><td>24.0</td></tr><tr><td>17.0</td></tr><tr><td>21.0</td></tr><tr><td>null</td></tr><tr><td>37.0</td></tr><tr><td>18.0</td></tr><tr><td>33.0</td></tr><tr><td>28.0</td></tr><tr><td>29.0</td></tr><tr><td>24.0</td></tr><tr><td>null</td></tr><tr><td>36.0</td></tr><tr><td>30.0</td></tr><tr><td>22.0</td></tr><tr><td>50.0</td></tr><tr><td>39.0</td></tr><tr><td>23.0</td></tr><tr><td>null</td></tr><tr><td>17.0</td></tr><tr><td>null</td></tr><tr><td>null</td></tr><tr><td>22.0</td></tr><tr><td>9.0</td></tr><tr><td>64.0</td></tr><tr><td>19.0</td></tr><tr><td>33.0</td></tr><tr><td>null</td></tr><tr><td>22.0</td></tr><tr><td>22.0</td></tr><tr><td>62.0</td></tr><tr><td>39.0</td></tr><tr><td>36.0</td></tr><tr><td>28.0</td></tr><tr><td>null</td></tr><tr><td>24.0</td></tr><tr><td>19.0</td></tr><tr><td>29.0</td></tr><tr><td>32.0</td></tr><tr><td>16.0</td></tr><tr><td>34.0</td></tr><tr><td>39.0</td></tr><tr><td>null</td></tr><tr><td>32.0</td></tr><tr><td>39.0</td></tr><tr><td>54.0</td></tr><tr><td>36.0</td></tr><tr><td>null</td></tr><tr><td>18.0</td></tr><tr><td>47.0</td></tr><tr><td>60.0</td></tr><tr><td>null</td></tr><tr><td>35.0</td></tr><tr><td>47.0</td></tr><tr><td>null</td></tr><tr><td>49.0</td></tr><tr><td>49.0</td></tr><tr><td>24.0</td></tr><tr><td>35.0</td></tr><tr><td>39.0</td></tr><tr><td>null</td></tr><tr><td>null</td></tr><tr><td>null</td></tr><tr><td>35.0</td></tr><tr><td>34.0</td></tr><tr><td>26.0</td></tr><tr><td>4.0</td></tr><tr><td>61.0</td></tr><tr><td>21.0</td></tr><tr><td>26.0</td></tr><tr><td>51.0</td></tr><tr><td>32.0</td></tr><tr><td>9.0</td></tr><tr><td>20.0</td></tr><tr><td>2.0</td></tr><tr><td>0.75</td></tr><tr><td>48.0</td></tr><tr><td>19.0</td></tr><tr><td>56.0</td></tr><tr><td>null</td></tr><tr><td>23.0</td></tr><tr><td>21.0</td></tr><tr><td>null</td></tr><tr><td>24.0</td></tr><tr><td>32.0</td></tr><tr><td>50.0</td></tr><tr><td>40.0</td></tr><tr><td>47.0</td></tr><tr><td>36.0</td></tr><tr><td>20.0</td></tr><tr><td>25.0</td></tr><tr><td>43.0</td></tr><tr><td>40.0</td></tr><tr><td>31.0</td></tr><tr><td>18.0</td></tr><tr><td>18.0</td></tr><tr><td>43.0</td></tr><tr><td>36.0</td></tr><tr><td>null</td></tr><tr><td>14.0</td></tr><tr><td>14.0</td></tr><tr><td>19.0</td></tr><tr><td>31.0</td></tr><tr><td>4.0</td></tr><tr><td>null</td></tr><tr><td>25.0</td></tr><tr><td>52.0</td></tr><tr><td>44.0</td></tr><tr><td>35.0</td></tr><tr><td>26.0</td></tr><tr><td>45.0</td></tr><tr><td>24.0</td></tr><tr><td>null</td></tr><tr><td>29.0</td></tr><tr><td>52.0</td></tr><tr><td>33.0</td></tr><tr><td>6.0</td></tr><tr><td>20.0</td></tr><tr><td>null</td></tr><tr><td>25.0</td></tr><tr><td>null</td></tr><tr><td>28.5</td></tr><tr><td>35.0</td></tr><tr><td>null</td></tr><tr><td>null</td></tr><tr><td>null</td></tr><tr><td>36.0</td></tr><tr><td>70.0</td></tr><tr><td>31.0</td></tr><tr><td>6.0</td></tr><tr><td>33.0</td></tr><tr><td>23.0</td></tr><tr><td>0.67</td></tr><tr><td>18.0</td></tr><tr><td>33.0</td></tr><tr><td>null</td></tr><tr><td>20.0</td></tr><tr><td>36.0</td></tr><tr><td>16.0</td></tr><tr><td>51.0</td></tr><tr><td>30.5</td></tr><tr><td>null</td></tr><tr><td>24.0</td></tr><tr><td>48.0</td></tr><tr><td>57.0</td></tr><tr><td>null</td></tr><tr><td>54.0</td></tr><tr><td>18.0</td></tr><tr><td>null</td></tr><tr><td>5.0</td></tr><tr><td>43.0</td></tr><tr><td>13.0</td></tr><tr><td>18.0</td></tr><tr><td>46.0</td></tr><tr><td>null</td></tr><tr><td>16.0</td></tr><tr><td>39.0</td></tr><tr><td>31.0</td></tr><tr><td>30.0</td></tr><tr><td>34.0</td></tr><tr><td>11.0</td></tr><tr><td>27.0</td></tr><tr><td>31.0</td></tr><tr><td>39.0</td></tr><tr><td>26.0</td></tr><tr><td>39.0</td></tr><tr><td>30.5</td></tr><tr><td>null</td></tr><tr><td>23.0</td></tr><tr><td>31.0</td></tr><tr><td>43.0</td></tr><tr><td>10.0</td></tr><tr><td>52.0</td></tr><tr><td>27.0</td></tr><tr><td>null</td></tr><tr><td>1.0</td></tr><tr><td>null</td></tr><tr><td>15.0</td></tr><tr><td>0.83</td></tr><tr><td>21.0</td></tr><tr><td>20.0</td></tr><tr><td>42.0</td></tr><tr><td>null</td></tr><tr><td>35.0</td></tr><tr><td>28.0</td></tr><tr><td>9.0</td></tr><tr><td>16.0</td></tr><tr><td>51.0</td></tr><tr><td>null</td></tr><tr><td>41.0</td></tr><tr><td>null</td></tr><tr><td>24.0</td></tr><tr><td>27.0</td></tr><tr><td>31.0</td></tr><tr><td>33.0</td></tr><tr><td>28.0</td></tr><tr><td>19.0</td></tr><tr><td>22.0</td></tr><tr><td>28.0</td></tr><tr><td>39.0</td></tr><tr><td>19.0</td></tr><tr><td>null</td></tr></tbody></table></div>"
      ]
     },
     "metadata": {
      "application/vnd.databricks.v1+output": {
       "addedWidgets": {},
       "aggData": [],
       "aggError": "",
       "aggOverflow": false,
       "aggSchema": [],
       "aggSeriesLimitReached": false,
       "aggType": "",
       "arguments": {},
       "columnCustomDisplayInfos": {},
       "data": [
        [
         22.0
        ],
        [
         35.0
        ],
        [
         35.0
        ],
        [
         2.0
        ],
        [
         27.0
        ],
        [
         14.0
        ],
        [
         4.0
        ],
        [
         58.0
        ],
        [
         20.0
        ],
        [
         39.0
        ],
        [
         14.0
        ],
        [
         55.0
        ],
        [
         35.0
        ],
        [
         34.0
        ],
        [
         15.0
        ],
        [
         38.0
        ],
        [
         null
        ],
        [
         19.0
        ],
        [
         null
        ],
        [
         40.0
        ],
        [
         null
        ],
        [
         66.0
        ],
        [
         42.0
        ],
        [
         null
        ],
        [
         18.0
        ],
        [
         27.0
        ],
        [
         null
        ],
        [
         null
        ],
        [
         null
        ],
        [
         18.0
        ],
        [
         7.0
        ],
        [
         21.0
        ],
        [
         29.0
        ],
        [
         65.0
        ],
        [
         null
        ],
        [
         null
        ],
        [
         null
        ],
        [
         19.0
        ],
        [
         17.0
        ],
        [
         16.0
        ],
        [
         21.0
        ],
        [
         26.0
        ],
        [
         25.0
        ],
        [
         22.0
        ],
        [
         29.0
        ],
        [
         28.0
        ],
        [
         null
        ],
        [
         24.0
        ],
        [
         29.0
        ],
        [
         26.0
        ],
        [
         59.0
        ],
        [
         71.0
        ],
        [
         34.0
        ],
        [
         34.0
        ],
        [
         28.0
        ],
        [
         null
        ],
        [
         37.0
        ],
        [
         28.0
        ],
        [
         21.0
        ],
        [
         38.0
        ],
        [
         47.0
        ],
        [
         22.0
        ],
        [
         20.0
        ],
        [
         17.0
        ],
        [
         70.5
        ],
        [
         32.5
        ],
        [
         54.0
        ],
        [
         12.0
        ],
        [
         null
        ],
        [
         24.0
        ],
        [
         null
        ],
        [
         45.0
        ],
        [
         33.0
        ],
        [
         20.0
        ],
        [
         47.0
        ],
        [
         29.0
        ],
        [
         19.0
        ],
        [
         16.0
        ],
        [
         24.0
        ],
        [
         null
        ],
        [
         22.0
        ],
        [
         24.0
        ],
        [
         9.0
        ],
        [
         42.0
        ],
        [
         51.0
        ],
        [
         40.5
        ],
        [
         null
        ],
        [
         44.0
        ],
        [
         17.0
        ],
        [
         9.0
        ],
        [
         45.0
        ],
        [
         null
        ],
        [
         28.0
        ],
        [
         61.0
        ],
        [
         4.0
        ],
        [
         21.0
        ],
        [
         18.0
        ],
        [
         null
        ],
        [
         36.0
        ],
        [
         null
        ],
        [
         1.0
        ],
        [
         45.0
        ],
        [
         40.0
        ],
        [
         36.0
        ],
        [
         32.0
        ],
        [
         19.0
        ],
        [
         42.0
        ],
        [
         null
        ],
        [
         28.0
        ],
        [
         45.5
        ],
        [
         2.0
        ],
        [
         26.0
        ],
        [
         40.0
        ],
        [
         null
        ],
        [
         31.0
        ],
        [
         42.0
        ],
        [
         32.0
        ],
        [
         30.0
        ],
        [
         null
        ],
        [
         38.0
        ],
        [
         22.0
        ],
        [
         19.0
        ],
        [
         18.0
        ],
        [
         null
        ],
        [
         35.0
        ],
        [
         29.0
        ],
        [
         null
        ],
        [
         44.0
        ],
        [
         19.0
        ],
        [
         29.0
        ],
        [
         30.0
        ],
        [
         44.0
        ],
        [
         25.0
        ],
        [
         29.0
        ],
        [
         29.0
        ],
        [
         52.0
        ],
        [
         40.0
        ],
        [
         null
        ],
        [
         37.0
        ],
        [
         null
        ],
        [
         null
        ],
        [
         28.0
        ],
        [
         null
        ],
        [
         22.0
        ],
        [
         36.0
        ],
        [
         24.0
        ],
        [
         null
        ],
        [
         23.5
        ],
        [
         null
        ],
        [
         null
        ],
        [
         19.0
        ],
        [
         null
        ],
        [
         null
        ],
        [
         17.0
        ],
        [
         30.0
        ],
        [
         24.0
        ],
        [
         18.0
        ],
        [
         28.0
        ],
        [
         43.0
        ],
        [
         26.0
        ],
        [
         40.0
        ],
        [
         22.0
        ],
        [
         27.0
        ],
        [
         30.0
        ],
        [
         22.0
        ],
        [
         36.0
        ],
        [
         16.0
        ],
        [
         null
        ],
        [
         null
        ],
        [
         45.0
        ],
        [
         45.0
        ],
        [
         24.0
        ],
        [
         40.0
        ],
        [
         null
        ],
        [
         42.0
        ],
        [
         15.0
        ],
        [
         25.0
        ],
        [
         null
        ],
        [
         28.0
        ],
        [
         22.0
        ],
        [
         null
        ],
        [
         null
        ],
        [
         40.0
        ],
        [
         29.0
        ],
        [
         45.0
        ],
        [
         35.0
        ],
        [
         60.0
        ],
        [
         null
        ],
        [
         25.0
        ],
        [
         18.0
        ],
        [
         22.0
        ],
        [
         22.0
        ],
        [
         20.0
        ],
        [
         1.0
        ],
        [
         null
        ],
        [
         36.0
        ],
        [
         17.0
        ],
        [
         28.0
        ],
        [
         23.0
        ],
        [
         24.0
        ],
        [
         28.0
        ],
        [
         39.0
        ],
        [
         26.0
        ],
        [
         21.0
        ],
        [
         3.0
        ],
        [
         21.0
        ],
        [
         44.0
        ],
        [
         34.0
        ],
        [
         30.0
        ],
        [
         10.0
        ],
        [
         null
        ],
        [
         21.0
        ],
        [
         18.0
        ],
        [
         null
        ],
        [
         null
        ],
        [
         null
        ],
        [
         42.0
        ],
        [
         14.0
        ],
        [
         24.0
        ],
        [
         64.0
        ],
        [
         31.0
        ],
        [
         25.0
        ],
        [
         34.0
        ],
        [
         5.0
        ],
        [
         52.0
        ],
        [
         null
        ],
        [
         49.0
        ],
        [
         null
        ],
        [
         29.0
        ],
        [
         65.0
        ],
        [
         48.0
        ],
        [
         47.0
        ],
        [
         null
        ],
        [
         38.0
        ],
        [
         null
        ],
        [
         null
        ],
        [
         23.0
        ],
        [
         29.0
        ],
        [
         22.0
        ],
        [
         2.0
        ],
        [
         9.0
        ],
        [
         50.0
        ],
        [
         30.0
        ],
        [
         21.0
        ],
        [
         null
        ],
        [
         null
        ],
        [
         25.0
        ],
        [
         24.0
        ],
        [
         17.0
        ],
        [
         21.0
        ],
        [
         null
        ],
        [
         37.0
        ],
        [
         18.0
        ],
        [
         33.0
        ],
        [
         28.0
        ],
        [
         29.0
        ],
        [
         24.0
        ],
        [
         null
        ],
        [
         36.0
        ],
        [
         30.0
        ],
        [
         22.0
        ],
        [
         50.0
        ],
        [
         39.0
        ],
        [
         23.0
        ],
        [
         null
        ],
        [
         17.0
        ],
        [
         null
        ],
        [
         null
        ],
        [
         22.0
        ],
        [
         9.0
        ],
        [
         64.0
        ],
        [
         19.0
        ],
        [
         33.0
        ],
        [
         null
        ],
        [
         22.0
        ],
        [
         22.0
        ],
        [
         62.0
        ],
        [
         39.0
        ],
        [
         36.0
        ],
        [
         28.0
        ],
        [
         null
        ],
        [
         24.0
        ],
        [
         19.0
        ],
        [
         29.0
        ],
        [
         32.0
        ],
        [
         16.0
        ],
        [
         34.0
        ],
        [
         39.0
        ],
        [
         null
        ],
        [
         32.0
        ],
        [
         39.0
        ],
        [
         54.0
        ],
        [
         36.0
        ],
        [
         null
        ],
        [
         18.0
        ],
        [
         47.0
        ],
        [
         60.0
        ],
        [
         null
        ],
        [
         35.0
        ],
        [
         47.0
        ],
        [
         null
        ],
        [
         49.0
        ],
        [
         49.0
        ],
        [
         24.0
        ],
        [
         35.0
        ],
        [
         39.0
        ],
        [
         null
        ],
        [
         null
        ],
        [
         null
        ],
        [
         35.0
        ],
        [
         34.0
        ],
        [
         26.0
        ],
        [
         4.0
        ],
        [
         61.0
        ],
        [
         21.0
        ],
        [
         26.0
        ],
        [
         51.0
        ],
        [
         32.0
        ],
        [
         9.0
        ],
        [
         20.0
        ],
        [
         2.0
        ],
        [
         0.75
        ],
        [
         48.0
        ],
        [
         19.0
        ],
        [
         56.0
        ],
        [
         null
        ],
        [
         23.0
        ],
        [
         21.0
        ],
        [
         null
        ],
        [
         24.0
        ],
        [
         32.0
        ],
        [
         50.0
        ],
        [
         40.0
        ],
        [
         47.0
        ],
        [
         36.0
        ],
        [
         20.0
        ],
        [
         25.0
        ],
        [
         43.0
        ],
        [
         40.0
        ],
        [
         31.0
        ],
        [
         18.0
        ],
        [
         18.0
        ],
        [
         43.0
        ],
        [
         36.0
        ],
        [
         null
        ],
        [
         14.0
        ],
        [
         14.0
        ],
        [
         19.0
        ],
        [
         31.0
        ],
        [
         4.0
        ],
        [
         null
        ],
        [
         25.0
        ],
        [
         52.0
        ],
        [
         44.0
        ],
        [
         35.0
        ],
        [
         26.0
        ],
        [
         45.0
        ],
        [
         24.0
        ],
        [
         null
        ],
        [
         29.0
        ],
        [
         52.0
        ],
        [
         33.0
        ],
        [
         6.0
        ],
        [
         20.0
        ],
        [
         null
        ],
        [
         25.0
        ],
        [
         null
        ],
        [
         28.5
        ],
        [
         35.0
        ],
        [
         null
        ],
        [
         null
        ],
        [
         null
        ],
        [
         36.0
        ],
        [
         70.0
        ],
        [
         31.0
        ],
        [
         6.0
        ],
        [
         33.0
        ],
        [
         23.0
        ],
        [
         0.67
        ],
        [
         18.0
        ],
        [
         33.0
        ],
        [
         null
        ],
        [
         20.0
        ],
        [
         36.0
        ],
        [
         16.0
        ],
        [
         51.0
        ],
        [
         30.5
        ],
        [
         null
        ],
        [
         24.0
        ],
        [
         48.0
        ],
        [
         57.0
        ],
        [
         null
        ],
        [
         54.0
        ],
        [
         18.0
        ],
        [
         null
        ],
        [
         5.0
        ],
        [
         43.0
        ],
        [
         13.0
        ],
        [
         18.0
        ],
        [
         46.0
        ],
        [
         null
        ],
        [
         16.0
        ],
        [
         39.0
        ],
        [
         31.0
        ],
        [
         30.0
        ],
        [
         34.0
        ],
        [
         11.0
        ],
        [
         27.0
        ],
        [
         31.0
        ],
        [
         39.0
        ],
        [
         26.0
        ],
        [
         39.0
        ],
        [
         30.5
        ],
        [
         null
        ],
        [
         23.0
        ],
        [
         31.0
        ],
        [
         43.0
        ],
        [
         10.0
        ],
        [
         52.0
        ],
        [
         27.0
        ],
        [
         null
        ],
        [
         1.0
        ],
        [
         null
        ],
        [
         15.0
        ],
        [
         0.83
        ],
        [
         21.0
        ],
        [
         20.0
        ],
        [
         42.0
        ],
        [
         null
        ],
        [
         35.0
        ],
        [
         28.0
        ],
        [
         9.0
        ],
        [
         16.0
        ],
        [
         51.0
        ],
        [
         null
        ],
        [
         41.0
        ],
        [
         null
        ],
        [
         24.0
        ],
        [
         27.0
        ],
        [
         31.0
        ],
        [
         33.0
        ],
        [
         28.0
        ],
        [
         19.0
        ],
        [
         22.0
        ],
        [
         28.0
        ],
        [
         39.0
        ],
        [
         19.0
        ],
        [
         null
        ]
       ],
       "datasetInfos": [],
       "dbfsResultPath": null,
       "isJsonSchema": true,
       "metadata": {},
       "overflow": false,
       "plotOptions": {
        "customPlotOptions": {},
        "displayType": "table",
        "pivotAggregation": null,
        "pivotColumns": null,
        "xColumns": null,
        "yColumns": null
       },
       "removedWidgets": [],
       "schema": [
        {
         "metadata": "{}",
         "name": "Age",
         "type": "\"double\""
        }
       ],
       "type": "table"
      }
     },
     "output_type": "display_data"
    },
    {
     "output_type": "display_data",
     "data": {
      "text/plain": [
       "Databricks visualization. Run in Databricks to view."
      ]
     },
     "metadata": {
      "application/vnd.databricks.v1.subcommand+json": {
       "bindings": {},
       "collapsed": false,
       "command": "%python\n__backend_agg_display_orig = display\n__backend_agg_dfs = []\ndef __backend_agg_display_new(df):\n    __backend_agg_df_modules = [\"pandas.core.frame\", \"databricks.koalas.frame\", \"pyspark.sql.dataframe\", \"pyspark.pandas.frame\"]\n    if (type(df).__module__ in __backend_agg_df_modules and type(df).__name__ == 'DataFrame') or isinstance(df, list):\n        __backend_agg_dfs.append(df)\n\ndisplay = __backend_agg_display_new\n\ndef __backend_agg_user_code_fn():\n    import base64\n    exec(base64.standard_b64decode(\"IyB1c2UgYnVpbHQtaW4gaGlzdG9yZ3JhbSBmdW5jdGlvbiBpbnN0ZWFkIChJIGNob3NlIGJpbiBudW1iZXIgb2YgOCkKIyByYW5kb20gc2FtcGxlOiBzYW1wbGUoRmFsc2UsIDAuNSkgLSBtZWFucyBnZXQgNTAlIHNhbXBsZQoKZnJvbSBweXNwYXJrLnNxbC5mdW5jdGlvbnMgaW1wb3J0IHJvdW5kCnRpdGFuaWMuc2VsZWN0KHRpdGFuaWNbJ0FnZSddKS5zYW1wbGUoRmFsc2UsIDAuNSkuZGlzcGxheSgpCg==\").decode())\n\ntry:\n    # run user code\n    __backend_agg_user_code_fn()\n\n    #reset display function\n    display = __backend_agg_display_orig\n\n    if len(__backend_agg_dfs) > 0:\n        # create a temp view\n        if hasattr(__backend_agg_dfs[0], \"to_spark\"):\n            # koalas dataframe\n            __backend_agg_dfs[0].to_spark().createOrReplaceTempView(\"DatabricksView30427a0\")\n        elif type(__backend_agg_dfs[0]).__module__ == \"pandas.core.frame\" or isinstance(__backend_agg_dfs[0], list):\n            # pandas dataframe\n            spark.createDataFrame(__backend_agg_dfs[0]).createOrReplaceTempView(\"DatabricksView30427a0\")\n        else:\n            __backend_agg_dfs[0].createOrReplaceTempView(\"DatabricksView30427a0\")\n        #run backend agg\n        display(spark.sql(\"\"\"WITH q AS (select * from DatabricksView30427a0) ,min_max AS (SELECT `Age`,(SELECT MAX(`Age`) FROM q) `target_column_max`,(SELECT MIN(`Age`) FROM q) `target_column_min` FROM q) ,histogram_meta AS (SELECT `Age`,`target_column_min` `min_value`,IF(`target_column_max` = `target_column_min`,`target_column_max` + 1,`target_column_max`) `max_value`,(`target_column_max` - `target_column_min`) / 8 `step` FROM min_max) SELECT IF(ISNULL(`Age`),NULL,LEAST(WIDTH_BUCKET(`Age`,`min_value`,`max_value`,8),8)) `Age_BIN`,FIRST(`min_value` + ((IF(ISNULL(`Age`),NULL,LEAST(WIDTH_BUCKET(`Age`,`min_value`,`max_value`,8),8)) - 1) * `step`)) `Age_BIN_LOWER_BOUND`,FIRST(`step`) `Age_BIN_STEP`,COUNT(`Age`) `COUNT` FROM histogram_meta GROUP BY `Age_BIN`\"\"\"))\n    else:\n        displayHTML(\"dataframe no longer exists. If you're using dataframe.display(), use display(dataframe) instead.\")\n\n\nfinally:\n    spark.sql(\"drop view if exists DatabricksView30427a0\")\n    display = __backend_agg_display_orig\n    del __backend_agg_display_new\n    del __backend_agg_display_orig\n    del __backend_agg_dfs\n    del __backend_agg_user_code_fn\n\n",
       "commandTitle": "Visualization 1",
       "commandType": "auto",
       "commandVersion": 0,
       "commentThread": [],
       "commentsVisible": false,
       "contentSha256Hex": null,
       "customPlotOptions": {
        "redashChart": [
         {
          "key": "type",
          "value": "CHART"
         },
         {
          "key": "options",
          "value": {
           "alignYAxesAtZero": false,
           "coefficient": 1,
           "columnConfigurationMap": {
            "x": {
             "column": "Age",
             "id": "column_35f5af0628"
            }
           },
           "dateTimeFormat": "DD/MM/YYYY HH:mm",
           "direction": {
            "type": "counterclockwise"
           },
           "error_y": {
            "type": "data",
            "visible": true
           },
           "globalSeriesType": "histogram",
           "legend": {
            "traceorder": "normal"
           },
           "missingValuesAsZero": true,
           "numBins": 8,
           "numberFormat": "0,0[.]00000",
           "percentFormat": "0[.]00%",
           "series": {
            "error_y": {
             "type": "data",
             "visible": true
            },
            "stacking": null
           },
           "seriesOptions": {},
           "showDataLabels": false,
           "sizemode": "diameter",
           "sortX": true,
           "sortY": true,
           "swappedAxes": false,
           "textFormat": "",
           "useAggregationsUi": true,
           "valuesOptions": {},
           "version": 2,
           "xAxis": {
            "labels": {
             "enabled": true
            },
            "type": "-"
           },
           "yAxis": [
            {
             "type": "-"
            },
            {
             "opposite": true,
             "type": "-"
            }
           ]
          }
         }
        ]
       },
       "datasetPreviewNameToCmdIdMap": {},
       "diffDeletes": [],
       "diffInserts": [],
       "displayType": "redashChart",
       "error": null,
       "errorSummary": null,
       "errorTraceType": null,
       "finishTime": 0,
       "globalVars": {},
       "guid": "ad214866-a362-4763-9a30-86d0d16c0d69",
       "height": "auto",
       "hideCommandCode": false,
       "hideCommandResult": false,
       "iPythonMetadata": null,
       "inputWidgets": {},
       "isLockedInExamMode": false,
       "latestUser": "a user",
       "latestUserId": null,
       "listResultMetadata": null,
       "metadata": {},
       "nuid": "4bc882dd-7c7d-409c-8d0b-2c6ab5a68fcc",
       "origId": 2632542615541434,
       "parentHierarchy": [
        "0fff7863-2aaf-40f1-89b8-798634653711"
       ],
       "pivotAggregation": null,
       "pivotColumns": null,
       "position": 18.5,
       "resultDbfsErrorMessage": null,
       "resultDbfsStatus": "INLINED_IN_TREE",
       "results": null,
       "showCommandTitle": false,
       "startTime": 0,
       "state": "finished",
       "streamStates": {},
       "subcommandOptions": {
        "queryPlan": {
         "groups": [
          {
           "column": "Age_BIN",
           "type": "column"
          }
         ],
         "selects": [
          {
           "alias": "Age_BIN",
           "args": [
            {
             "column": "Age",
             "type": "column"
            },
            {
             "number": 8,
             "type": "number"
            }
           ],
           "function": "BIN",
           "type": "function"
          },
          {
           "alias": "Age_BIN_LOWER_BOUND",
           "args": [
            {
             "column": "Age",
             "type": "column"
            },
            {
             "number": 8,
             "type": "number"
            }
           ],
           "function": "BIN_LOWER_BOUND",
           "type": "function"
          },
          {
           "alias": "Age_BIN_STEP",
           "args": [
            {
             "column": "Age",
             "type": "column"
            },
            {
             "number": 8,
             "type": "number"
            }
           ],
           "function": "BIN_STEP",
           "type": "function"
          },
          {
           "alias": "COUNT",
           "args": [
            {
             "column": "Age",
             "type": "column"
            }
           ],
           "function": "COUNT",
           "type": "function"
          }
         ]
        }
       },
       "submitTime": 0,
       "subtype": "tableResultSubCmd.visualization",
       "tableResultIndex": 0,
       "useConsistentColors": false,
       "version": "CommandV1",
       "width": "auto",
       "workflows": [],
       "xColumns": null,
       "yColumns": null
      }
     },
     "output_type": "display_data"
    }
   ],
   "source": [
    "# use built-in historgram function instead (I chose bin number of 8)\n",
    "# random sample: sample(False, 0.5) - means get 50% sample\n",
    "\n",
    "from pyspark.sql.functions import round\n",
    "titanic.select(titanic['Age']).sample(False, 0.5).display()\n"
   ]
  },
  {
   "cell_type": "markdown",
   "metadata": {
    "application/vnd.databricks.v1+cell": {
     "cellMetadata": {},
     "inputWidgets": {},
     "nuid": "5a3714ce-f530-4b17-b74c-50f2f59e8122",
     "showTitle": false,
     "title": ""
    }
   },
   "source": [
    "### III. Feature Engineering\n",
    "\n",
    "The goal of this step is to do necessary feature engineering. \n",
    "\n",
    "Here we will focus on\n",
    "- dealing with missing values\n",
    "- creating new columns\n",
    "- converting data types"
   ]
  },
  {
   "cell_type": "code",
   "execution_count": 0,
   "metadata": {
    "application/vnd.databricks.v1+cell": {
     "cellMetadata": {},
     "inputWidgets": {},
     "nuid": "0fcd3efa-b149-47d6-9bfe-9910f1197b2c",
     "showTitle": false,
     "title": ""
    }
   },
   "outputs": [],
   "source": [
    "# select label survied and features that will be used in the model\n",
    "titanic_cast = titanic.select(\"Survived\",\"Age\",\"Pclass\",\"Sex\",\"SibSp\",\"fare\",\"Parch\",\"Embarked\")"
   ]
  },
  {
   "cell_type": "code",
   "execution_count": 0,
   "metadata": {
    "application/vnd.databricks.v1+cell": {
     "cellMetadata": {},
     "inputWidgets": {},
     "nuid": "9567fb48-d1b8-48c8-a295-771506038cf3",
     "showTitle": false,
     "title": ""
    }
   },
   "outputs": [
    {
     "output_type": "stream",
     "name": "stdout",
     "output_type": "stream",
     "text": [
      "root\n |-- Survived: integer (nullable = true)\n |-- Age: double (nullable = true)\n |-- Pclass: integer (nullable = true)\n |-- Sex: string (nullable = true)\n |-- SibSp: integer (nullable = true)\n |-- fare: double (nullable = true)\n |-- Parch: integer (nullable = true)\n |-- Embarked: string (nullable = true)\n\n"
     ]
    }
   ],
   "source": [
    "# check schema\n",
    "titanic_cast.printSchema()"
   ]
  },
  {
   "cell_type": "code",
   "execution_count": 0,
   "metadata": {
    "application/vnd.databricks.v1+cell": {
     "cellMetadata": {},
     "inputWidgets": {},
     "nuid": "04bf698f-bf4d-4154-88ca-69ab1569a00c",
     "showTitle": false,
     "title": ""
    }
   },
   "outputs": [
    {
     "output_type": "stream",
     "name": "stdout",
     "output_type": "stream",
     "text": [
      "root\n |-- Survived: double (nullable = true)\n |-- Age: double (nullable = true)\n |-- Pclass: double (nullable = true)\n |-- Sex: string (nullable = true)\n |-- SibSp: double (nullable = true)\n |-- fare: double (nullable = true)\n |-- Parch: double (nullable = true)\n |-- Embarked: string (nullable = true)\n\n"
     ]
    }
   ],
   "source": [
    "# convert all numerical columns into double type becuase pySpark sometimes (in earlier Spark versions) does not work well with other numerical types.\n",
    "titanic_cast = titanic_cast.withColumn(\"Survived\",titanic_cast.Survived.cast(\"double\")) \\\n",
    "        .withColumn(\"Pclass\",titanic_cast.Pclass.cast(\"double\")) \\\n",
    "        .withColumn(\"SibSp\",titanic_cast.SibSp.cast(\"double\")) \\\n",
    "        .withColumn(\"Parch\",titanic_cast.Parch.cast(\"double\"))\n",
    "titanic_cast.printSchema()"
   ]
  },
  {
   "cell_type": "code",
   "execution_count": 0,
   "metadata": {
    "application/vnd.databricks.v1+cell": {
     "cellMetadata": {},
     "inputWidgets": {},
     "nuid": "c14a8779-5fec-40d7-9162-2b5dd9d889fe",
     "showTitle": false,
     "title": ""
    }
   },
   "outputs": [],
   "source": [
    "# 1. add new column AgeNA, 1 means imputed; 0 means not imputed\n",
    "# 2. then set to double type\n",
    "# 3. impute null age to 29.69911764705882\n",
    "\n",
    "titanic_final = titanic_cast.withColumn(\"AgeNA\", f.when(titanic_cast.Age.isNull(), 1).otherwise(0))\n",
    "\n",
    "titanic_final = titanic_final.withColumn(\"AgeNA\",titanic_final.AgeNA.cast(\"double\")) \\\n",
    "                .withColumn(\"Age\", f.when(titanic_final.Age.isNull(), 29.69911764705882).otherwise(titanic_final.Age))\n",
    "\n",
    "# 4. drop Embarked NA\n",
    "titanic_final = titanic_final.filter(titanic_final.Embarked.isNotNull())\n"
   ]
  },
  {
   "cell_type": "code",
   "execution_count": 0,
   "metadata": {
    "application/vnd.databricks.v1+cell": {
     "cellMetadata": {},
     "inputWidgets": {},
     "nuid": "ff00bcfd-1858-45c3-8ae1-1d25025d90a3",
     "showTitle": false,
     "title": ""
    }
   },
   "outputs": [
    {
     "output_type": "stream",
     "name": "stdout",
     "output_type": "stream",
     "text": [
      "root\n |-- Survived: double (nullable = true)\n |-- Age: double (nullable = true)\n |-- Pclass: double (nullable = true)\n |-- Sex: string (nullable = true)\n |-- SibSp: double (nullable = true)\n |-- fare: double (nullable = true)\n |-- Parch: double (nullable = true)\n |-- Embarked: string (nullable = true)\n |-- AgeNA: double (nullable = false)\n\n"
     ]
    },
    {
     "output_type": "display_data",
     "data": {
      "text/html": [
       "<style scoped>\n",
       "  .table-result-container {\n",
       "    max-height: 300px;\n",
       "    overflow: auto;\n",
       "  }\n",
       "  table, th, td {\n",
       "    border: 1px solid black;\n",
       "    border-collapse: collapse;\n",
       "  }\n",
       "  th, td {\n",
       "    padding: 5px;\n",
       "  }\n",
       "  th {\n",
       "    text-align: left;\n",
       "  }\n",
       "</style><div class='table-result-container'><table class='table-result'><thead style='background-color: white'><tr><th>summary</th><th>Survived</th><th>Age</th><th>Pclass</th><th>Sex</th><th>SibSp</th><th>fare</th><th>Parch</th><th>Embarked</th><th>AgeNA</th></tr></thead><tbody><tr><td>count</td><td>889</td><td>889</td><td>889</td><td>889</td><td>889</td><td>889</td><td>889</td><td>889</td><td>889</td></tr><tr><td>mean</td><td>0.38245219347581555</td><td>29.653446370674192</td><td>2.3115860517435323</td><td>null</td><td>0.5241844769403825</td><td>32.09668087739029</td><td>0.38245219347581555</td><td>null</td><td>0.19910011248593926</td></tr><tr><td>stddev</td><td>0.48625968831477334</td><td>12.968366309252314</td><td>0.8346997785705753</td><td>null</td><td>1.103704875596923</td><td>49.69750431670795</td><td>0.8067607445174785</td><td>null</td><td>0.3995482811002537</td></tr><tr><td>min</td><td>0.0</td><td>0.42</td><td>1.0</td><td>female</td><td>0.0</td><td>0.0</td><td>0.0</td><td>C</td><td>0.0</td></tr><tr><td>max</td><td>1.0</td><td>80.0</td><td>3.0</td><td>male</td><td>8.0</td><td>512.3292</td><td>6.0</td><td>S</td><td>1.0</td></tr></tbody></table></div>"
      ]
     },
     "metadata": {
      "application/vnd.databricks.v1+output": {
       "addedWidgets": {},
       "aggData": [],
       "aggError": "",
       "aggOverflow": false,
       "aggSchema": [],
       "aggSeriesLimitReached": false,
       "aggType": "",
       "arguments": {},
       "columnCustomDisplayInfos": {},
       "data": [
        [
         "count",
         "889",
         "889",
         "889",
         "889",
         "889",
         "889",
         "889",
         "889",
         "889"
        ],
        [
         "mean",
         "0.38245219347581555",
         "29.653446370674192",
         "2.3115860517435323",
         null,
         "0.5241844769403825",
         "32.09668087739029",
         "0.38245219347581555",
         null,
         "0.19910011248593926"
        ],
        [
         "stddev",
         "0.48625968831477334",
         "12.968366309252314",
         "0.8346997785705753",
         null,
         "1.103704875596923",
         "49.69750431670795",
         "0.8067607445174785",
         null,
         "0.3995482811002537"
        ],
        [
         "min",
         "0.0",
         "0.42",
         "1.0",
         "female",
         "0.0",
         "0.0",
         "0.0",
         "C",
         "0.0"
        ],
        [
         "max",
         "1.0",
         "80.0",
         "3.0",
         "male",
         "8.0",
         "512.3292",
         "6.0",
         "S",
         "1.0"
        ]
       ],
       "datasetInfos": [],
       "dbfsResultPath": null,
       "isJsonSchema": true,
       "metadata": {},
       "overflow": false,
       "plotOptions": {
        "customPlotOptions": {},
        "displayType": "table",
        "pivotAggregation": null,
        "pivotColumns": null,
        "xColumns": null,
        "yColumns": null
       },
       "removedWidgets": [],
       "schema": [
        {
         "metadata": "{}",
         "name": "summary",
         "type": "\"string\""
        },
        {
         "metadata": "{}",
         "name": "Survived",
         "type": "\"string\""
        },
        {
         "metadata": "{}",
         "name": "Age",
         "type": "\"string\""
        },
        {
         "metadata": "{}",
         "name": "Pclass",
         "type": "\"string\""
        },
        {
         "metadata": "{}",
         "name": "Sex",
         "type": "\"string\""
        },
        {
         "metadata": "{}",
         "name": "SibSp",
         "type": "\"string\""
        },
        {
         "metadata": "{}",
         "name": "fare",
         "type": "\"string\""
        },
        {
         "metadata": "{}",
         "name": "Parch",
         "type": "\"string\""
        },
        {
         "metadata": "{}",
         "name": "Embarked",
         "type": "\"string\""
        },
        {
         "metadata": "{}",
         "name": "AgeNA",
         "type": "\"string\""
        }
       ],
       "type": "table"
      }
     },
     "output_type": "display_data"
    }
   ],
   "source": [
    "# print Schema\n",
    "titanic_final.printSchema()\n",
    "\n",
    "# obtain descriptive statistics\n",
    "titanic_final.describe().display()"
   ]
  },
  {
   "cell_type": "code",
   "execution_count": 0,
   "metadata": {
    "application/vnd.databricks.v1+cell": {
     "cellMetadata": {},
     "inputWidgets": {},
     "nuid": "c21956fe-adb0-456d-9178-e5920d23c4ab",
     "showTitle": false,
     "title": ""
    }
   },
   "outputs": [
    {
     "output_type": "stream",
     "name": "stdout",
     "output_type": "stream",
     "text": [
      "Out[27]: 0"
     ]
    }
   ],
   "source": [
    "# check Embarked null (checked again to see if there are still missing value)\n",
    "titanic_final.filter(titanic_final.Embarked.isNull()).count()"
   ]
  },
  {
   "cell_type": "markdown",
   "metadata": {
    "application/vnd.databricks.v1+cell": {
     "cellMetadata": {},
     "inputWidgets": {},
     "nuid": "7ba3847d-5a09-449f-8cfa-ad466975ea70",
     "showTitle": false,
     "title": ""
    }
   },
   "source": [
    "### IIII. Indexers and Encoders for string/categorical columns (for use with Pipeline)\n",
    "\n",
    "String columns cannot be directly in with some of the models such as LogisticRegression. Neither are categorical columns. Our strategy is to convert string and categorical variables into a series of binary dummies. \n",
    "\n",
    "To convert indexed categorical values into a vector of binary indicators, we can leverage `OneHotEncoder`\n",
    "\n",
    "Finally, we need to assemble a vector column with all the numerical features. This is achieved by `VectorAssembler`\n",
    "\n",
    "\n",
    "- [StringIndexer](https://spark.apache.org/docs/latest/api/python/pyspark.ml.html#pyspark.ml.feature.StringIndexer): for convert string labels into numerical labels (0, 1,...), ordered by label frequencies\n",
    "- [OneHotEncoderEstimator](https://spark.apache.org/docs/latest/api/python/pyspark.ml.html#pyspark.ml.feature.OneHotEncoderEstimator): mapping a column of category indices to a column of binary vectors (the least frequent one will be dropped by default).\n",
    "- [VectorAssembler](https://spark.apache.org/docs/latest/api/python/pyspark.ml.html#pyspark.ml.feature.VectorAssembler): merges multiple columns into one vector columns needed for most algorithms"
   ]
  },
  {
   "cell_type": "code",
   "execution_count": 0,
   "metadata": {
    "application/vnd.databricks.v1+cell": {
     "cellMetadata": {},
     "inputWidgets": {},
     "nuid": "a34cf03a-db5d-4f12-aa27-8df0fe699bb6",
     "showTitle": false,
     "title": ""
    }
   },
   "outputs": [
    {
     "output_type": "display_data",
     "data": {
      "text/html": [
       "<style scoped>\n",
       "  .table-result-container {\n",
       "    max-height: 300px;\n",
       "    overflow: auto;\n",
       "  }\n",
       "  table, th, td {\n",
       "    border: 1px solid black;\n",
       "    border-collapse: collapse;\n",
       "  }\n",
       "  th, td {\n",
       "    padding: 5px;\n",
       "  }\n",
       "  th {\n",
       "    text-align: left;\n",
       "  }\n",
       "</style><div class='table-result-container'><table class='table-result'><thead style='background-color: white'><tr><th>Survived</th><th>Age</th><th>Pclass</th><th>Sex</th><th>SibSp</th><th>fare</th><th>Parch</th><th>Embarked</th><th>AgeNA</th><th>Embarked_idx</th><th>Sex_idx</th></tr></thead><tbody><tr><td>0.0</td><td>22.0</td><td>3.0</td><td>male</td><td>1.0</td><td>7.25</td><td>0.0</td><td>S</td><td>0.0</td><td>0.0</td><td>0.0</td></tr><tr><td>1.0</td><td>38.0</td><td>1.0</td><td>female</td><td>1.0</td><td>71.2833</td><td>0.0</td><td>C</td><td>0.0</td><td>1.0</td><td>1.0</td></tr><tr><td>1.0</td><td>26.0</td><td>3.0</td><td>female</td><td>0.0</td><td>7.925</td><td>0.0</td><td>S</td><td>0.0</td><td>0.0</td><td>1.0</td></tr><tr><td>1.0</td><td>35.0</td><td>1.0</td><td>female</td><td>1.0</td><td>53.1</td><td>0.0</td><td>S</td><td>0.0</td><td>0.0</td><td>1.0</td></tr><tr><td>0.0</td><td>35.0</td><td>3.0</td><td>male</td><td>0.0</td><td>8.05</td><td>0.0</td><td>S</td><td>0.0</td><td>0.0</td><td>0.0</td></tr></tbody></table></div>"
      ]
     },
     "metadata": {
      "application/vnd.databricks.v1+output": {
       "addedWidgets": {},
       "aggData": [],
       "aggError": "",
       "aggOverflow": false,
       "aggSchema": [],
       "aggSeriesLimitReached": false,
       "aggType": "",
       "arguments": {},
       "columnCustomDisplayInfos": {},
       "data": [
        [
         0.0,
         22.0,
         3.0,
         "male",
         1.0,
         7.25,
         0.0,
         "S",
         0.0,
         0.0,
         0.0
        ],
        [
         1.0,
         38.0,
         1.0,
         "female",
         1.0,
         71.2833,
         0.0,
         "C",
         0.0,
         1.0,
         1.0
        ],
        [
         1.0,
         26.0,
         3.0,
         "female",
         0.0,
         7.925,
         0.0,
         "S",
         0.0,
         0.0,
         1.0
        ],
        [
         1.0,
         35.0,
         1.0,
         "female",
         1.0,
         53.1,
         0.0,
         "S",
         0.0,
         0.0,
         1.0
        ],
        [
         0.0,
         35.0,
         3.0,
         "male",
         0.0,
         8.05,
         0.0,
         "S",
         0.0,
         0.0,
         0.0
        ]
       ],
       "datasetInfos": [],
       "dbfsResultPath": null,
       "isJsonSchema": true,
       "metadata": {},
       "overflow": false,
       "plotOptions": {
        "customPlotOptions": {},
        "displayType": "table",
        "pivotAggregation": null,
        "pivotColumns": null,
        "xColumns": null,
        "yColumns": null
       },
       "removedWidgets": [],
       "schema": [
        {
         "metadata": "{}",
         "name": "Survived",
         "type": "\"double\""
        },
        {
         "metadata": "{}",
         "name": "Age",
         "type": "\"double\""
        },
        {
         "metadata": "{}",
         "name": "Pclass",
         "type": "\"double\""
        },
        {
         "metadata": "{}",
         "name": "Sex",
         "type": "\"string\""
        },
        {
         "metadata": "{}",
         "name": "SibSp",
         "type": "\"double\""
        },
        {
         "metadata": "{}",
         "name": "fare",
         "type": "\"double\""
        },
        {
         "metadata": "{}",
         "name": "Parch",
         "type": "\"double\""
        },
        {
         "metadata": "{}",
         "name": "Embarked",
         "type": "\"string\""
        },
        {
         "metadata": "{}",
         "name": "AgeNA",
         "type": "\"double\""
        },
        {
         "metadata": "{\"ml_attr\":{\"vals\":[\"S\",\"C\",\"Q\"],\"type\":\"nominal\",\"name\":\"Embarked_idx\"}}",
         "name": "Embarked_idx",
         "type": "\"double\""
        },
        {
         "metadata": "{\"ml_attr\":{\"vals\":[\"male\",\"female\"],\"type\":\"nominal\",\"name\":\"Sex_idx\"}}",
         "name": "Sex_idx",
         "type": "\"double\""
        }
       ],
       "type": "table"
      }
     },
     "output_type": "display_data"
    }
   ],
   "source": [
    "# use stringIndexer to convert the Embarked and Sex columns\n",
    "\n",
    "from pyspark.ml.feature import StringIndexer,VectorAssembler\n",
    "\n",
    "si =StringIndexer(inputCols=[\"Embarked\", \"Sex\"], outputCols = [\"Embarked_idx\", \"Sex_idx\"])\n",
    "titanic_final_si = si.fit(titanic_final).transform(titanic_final)\n",
    "\n",
    "titanic_final_si.limit(5).display()"
   ]
  },
  {
   "cell_type": "code",
   "execution_count": 0,
   "metadata": {
    "application/vnd.databricks.v1+cell": {
     "cellMetadata": {},
     "inputWidgets": {},
     "nuid": "573c76cc-29d6-493c-aed9-c1a93e12c4f5",
     "showTitle": false,
     "title": ""
    }
   },
   "outputs": [
    {
     "output_type": "display_data",
     "data": {
      "text/html": [
       "<style scoped>\n",
       "  .table-result-container {\n",
       "    max-height: 300px;\n",
       "    overflow: auto;\n",
       "  }\n",
       "  table, th, td {\n",
       "    border: 1px solid black;\n",
       "    border-collapse: collapse;\n",
       "  }\n",
       "  th, td {\n",
       "    padding: 5px;\n",
       "  }\n",
       "  th {\n",
       "    text-align: left;\n",
       "  }\n",
       "</style><div class='table-result-container'><table class='table-result'><thead style='background-color: white'><tr><th>Survived</th><th>Age</th><th>Pclass</th><th>Sex</th><th>SibSp</th><th>fare</th><th>Parch</th><th>Embarked</th><th>AgeNA</th><th>Embarked_idx</th><th>Sex_idx</th><th>Embarked_ohe</th><th>Sex_ohe</th></tr></thead><tbody><tr><td>0.0</td><td>22.0</td><td>3.0</td><td>male</td><td>1.0</td><td>7.25</td><td>0.0</td><td>S</td><td>0.0</td><td>0.0</td><td>0.0</td><td>Map(vectorType -> sparse, length -> 2, indices -> List(0), values -> List(1.0))</td><td>Map(vectorType -> sparse, length -> 1, indices -> List(0), values -> List(1.0))</td></tr><tr><td>1.0</td><td>38.0</td><td>1.0</td><td>female</td><td>1.0</td><td>71.2833</td><td>0.0</td><td>C</td><td>0.0</td><td>1.0</td><td>1.0</td><td>Map(vectorType -> sparse, length -> 2, indices -> List(1), values -> List(1.0))</td><td>Map(vectorType -> sparse, length -> 1, indices -> List(), values -> List())</td></tr><tr><td>1.0</td><td>26.0</td><td>3.0</td><td>female</td><td>0.0</td><td>7.925</td><td>0.0</td><td>S</td><td>0.0</td><td>0.0</td><td>1.0</td><td>Map(vectorType -> sparse, length -> 2, indices -> List(0), values -> List(1.0))</td><td>Map(vectorType -> sparse, length -> 1, indices -> List(), values -> List())</td></tr><tr><td>1.0</td><td>35.0</td><td>1.0</td><td>female</td><td>1.0</td><td>53.1</td><td>0.0</td><td>S</td><td>0.0</td><td>0.0</td><td>1.0</td><td>Map(vectorType -> sparse, length -> 2, indices -> List(0), values -> List(1.0))</td><td>Map(vectorType -> sparse, length -> 1, indices -> List(), values -> List())</td></tr><tr><td>0.0</td><td>35.0</td><td>3.0</td><td>male</td><td>0.0</td><td>8.05</td><td>0.0</td><td>S</td><td>0.0</td><td>0.0</td><td>0.0</td><td>Map(vectorType -> sparse, length -> 2, indices -> List(0), values -> List(1.0))</td><td>Map(vectorType -> sparse, length -> 1, indices -> List(0), values -> List(1.0))</td></tr></tbody></table></div>"
      ]
     },
     "metadata": {
      "application/vnd.databricks.v1+output": {
       "addedWidgets": {},
       "aggData": [],
       "aggError": "",
       "aggOverflow": false,
       "aggSchema": [],
       "aggSeriesLimitReached": false,
       "aggType": "",
       "arguments": {},
       "columnCustomDisplayInfos": {},
       "data": [
        [
         0.0,
         22.0,
         3.0,
         "male",
         1.0,
         7.25,
         0.0,
         "S",
         0.0,
         0.0,
         0.0,
         {
          "indices": [
           0
          ],
          "length": 2,
          "values": [
           1.0
          ],
          "vectorType": "sparse"
         },
         {
          "indices": [
           0
          ],
          "length": 1,
          "values": [
           1.0
          ],
          "vectorType": "sparse"
         }
        ],
        [
         1.0,
         38.0,
         1.0,
         "female",
         1.0,
         71.2833,
         0.0,
         "C",
         0.0,
         1.0,
         1.0,
         {
          "indices": [
           1
          ],
          "length": 2,
          "values": [
           1.0
          ],
          "vectorType": "sparse"
         },
         {
          "indices": [],
          "length": 1,
          "values": [],
          "vectorType": "sparse"
         }
        ],
        [
         1.0,
         26.0,
         3.0,
         "female",
         0.0,
         7.925,
         0.0,
         "S",
         0.0,
         0.0,
         1.0,
         {
          "indices": [
           0
          ],
          "length": 2,
          "values": [
           1.0
          ],
          "vectorType": "sparse"
         },
         {
          "indices": [],
          "length": 1,
          "values": [],
          "vectorType": "sparse"
         }
        ],
        [
         1.0,
         35.0,
         1.0,
         "female",
         1.0,
         53.1,
         0.0,
         "S",
         0.0,
         0.0,
         1.0,
         {
          "indices": [
           0
          ],
          "length": 2,
          "values": [
           1.0
          ],
          "vectorType": "sparse"
         },
         {
          "indices": [],
          "length": 1,
          "values": [],
          "vectorType": "sparse"
         }
        ],
        [
         0.0,
         35.0,
         3.0,
         "male",
         0.0,
         8.05,
         0.0,
         "S",
         0.0,
         0.0,
         0.0,
         {
          "indices": [
           0
          ],
          "length": 2,
          "values": [
           1.0
          ],
          "vectorType": "sparse"
         },
         {
          "indices": [
           0
          ],
          "length": 1,
          "values": [
           1.0
          ],
          "vectorType": "sparse"
         }
        ]
       ],
       "datasetInfos": [],
       "dbfsResultPath": null,
       "isJsonSchema": true,
       "metadata": {},
       "overflow": false,
       "plotOptions": {
        "customPlotOptions": {},
        "displayType": "table",
        "pivotAggregation": null,
        "pivotColumns": null,
        "xColumns": null,
        "yColumns": null
       },
       "removedWidgets": [],
       "schema": [
        {
         "metadata": "{}",
         "name": "Survived",
         "type": "\"double\""
        },
        {
         "metadata": "{}",
         "name": "Age",
         "type": "\"double\""
        },
        {
         "metadata": "{}",
         "name": "Pclass",
         "type": "\"double\""
        },
        {
         "metadata": "{}",
         "name": "Sex",
         "type": "\"string\""
        },
        {
         "metadata": "{}",
         "name": "SibSp",
         "type": "\"double\""
        },
        {
         "metadata": "{}",
         "name": "fare",
         "type": "\"double\""
        },
        {
         "metadata": "{}",
         "name": "Parch",
         "type": "\"double\""
        },
        {
         "metadata": "{}",
         "name": "Embarked",
         "type": "\"string\""
        },
        {
         "metadata": "{}",
         "name": "AgeNA",
         "type": "\"double\""
        },
        {
         "metadata": "{\"ml_attr\":{\"vals\":[\"S\",\"C\",\"Q\"],\"type\":\"nominal\",\"name\":\"Embarked_idx\"}}",
         "name": "Embarked_idx",
         "type": "\"double\""
        },
        {
         "metadata": "{\"ml_attr\":{\"vals\":[\"male\",\"female\"],\"type\":\"nominal\",\"name\":\"Sex_idx\"}}",
         "name": "Sex_idx",
         "type": "\"double\""
        },
        {
         "metadata": "{\"ml_attr\":{\"attrs\":{\"binary\":[{\"idx\":0,\"name\":\"S\"},{\"idx\":1,\"name\":\"C\"}]},\"num_attrs\":2}}",
         "name": "Embarked_ohe",
         "type": "{\"type\":\"udt\",\"class\":\"org.apache.spark.ml.linalg.VectorUDT\",\"pyClass\":\"pyspark.ml.linalg.VectorUDT\",\"sqlType\":{\"type\":\"struct\",\"fields\":[{\"name\":\"type\",\"type\":\"byte\",\"nullable\":false,\"metadata\":{}},{\"name\":\"size\",\"type\":\"integer\",\"nullable\":true,\"metadata\":{}},{\"name\":\"indices\",\"type\":{\"type\":\"array\",\"elementType\":\"integer\",\"containsNull\":false},\"nullable\":true,\"metadata\":{}},{\"name\":\"values\",\"type\":{\"type\":\"array\",\"elementType\":\"double\",\"containsNull\":false},\"nullable\":true,\"metadata\":{}}]}}"
        },
        {
         "metadata": "{\"ml_attr\":{\"attrs\":{\"binary\":[{\"idx\":0,\"name\":\"male\"}]},\"num_attrs\":1}}",
         "name": "Sex_ohe",
         "type": "{\"type\":\"udt\",\"class\":\"org.apache.spark.ml.linalg.VectorUDT\",\"pyClass\":\"pyspark.ml.linalg.VectorUDT\",\"sqlType\":{\"type\":\"struct\",\"fields\":[{\"name\":\"type\",\"type\":\"byte\",\"nullable\":false,\"metadata\":{}},{\"name\":\"size\",\"type\":\"integer\",\"nullable\":true,\"metadata\":{}},{\"name\":\"indices\",\"type\":{\"type\":\"array\",\"elementType\":\"integer\",\"containsNull\":false},\"nullable\":true,\"metadata\":{}},{\"name\":\"values\",\"type\":{\"type\":\"array\",\"elementType\":\"double\",\"containsNull\":false},\"nullable\":true,\"metadata\":{}}]}}"
        }
       ],
       "type": "table"
      }
     },
     "output_type": "display_data"
    }
   ],
   "source": [
    "# use oneHotEncoder to convert the Sex_idx and Embarked_idx column\n",
    "from pyspark.ml.feature import OneHotEncoder\n",
    "\n",
    "ohe = OneHotEncoder(inputCols=[\"Embarked_idx\", \"Sex_idx\"], outputCols=[\"Embarked_ohe\", \"Sex_ohe\"])\n",
    "titanic_final_ohe = ohe.fit(titanic_final_si).transform(titanic_final_si)\n",
    "\n",
    "titanic_final_ohe.limit(5).display()"
   ]
  },
  {
   "cell_type": "markdown",
   "metadata": {
    "application/vnd.databricks.v1+cell": {
     "cellMetadata": {},
     "inputWidgets": {},
     "nuid": "29bff98a-8817-4586-a8fa-26a042bd77ac",
     "showTitle": false,
     "title": ""
    }
   },
   "source": [
    "### V. Assemble feature columns into a feature vector (for use with the pipeline)"
   ]
  },
  {
   "cell_type": "code",
   "execution_count": 0,
   "metadata": {
    "application/vnd.databricks.v1+cell": {
     "cellMetadata": {},
     "inputWidgets": {},
     "nuid": "916b01fc-ee6a-4af5-9ee2-1ff6ef96aad0",
     "showTitle": false,
     "title": ""
    }
   },
   "outputs": [],
   "source": [
    "from pyspark.ml.feature import VectorAssembler\n",
    "\n",
    "# remove the dependent variable cnt\n",
    "va = VectorAssembler(inputCols=titanic_final_ohe.drop('sex','Embarked','Embarked_idx','Sex_idx','Survived').columns, outputCol=\"features\")"
   ]
  },
  {
   "cell_type": "markdown",
   "metadata": {
    "application/vnd.databricks.v1+cell": {
     "cellMetadata": {},
     "inputWidgets": {},
     "nuid": "867755a3-b8ca-4532-9a29-ab9408095364",
     "showTitle": false,
     "title": ""
    }
   },
   "source": [
    "### VI: Model"
   ]
  },
  {
   "cell_type": "markdown",
   "metadata": {
    "application/vnd.databricks.v1+cell": {
     "cellMetadata": {},
     "inputWidgets": {},
     "nuid": "82647ee2-2d21-4afe-bb9e-2fd2cf333fe1",
     "showTitle": false,
     "title": ""
    }
   },
   "source": [
    "##### Logistic Regression"
   ]
  },
  {
   "cell_type": "markdown",
   "metadata": {
    "application/vnd.databricks.v1+cell": {
     "cellMetadata": {},
     "inputWidgets": {},
     "nuid": "0625cda4-18ae-4da8-8ada-eca36dc52c14",
     "showTitle": false,
     "title": ""
    }
   },
   "source": [
    "##### 6.1 set up the model"
   ]
  },
  {
   "cell_type": "code",
   "execution_count": 0,
   "metadata": {
    "application/vnd.databricks.v1+cell": {
     "cellMetadata": {},
     "inputWidgets": {},
     "nuid": "7f1e8853-e566-41ed-b0e2-73cac8c7467d",
     "showTitle": false,
     "title": ""
    }
   },
   "outputs": [],
   "source": [
    "# Create logistic regression estimator\n",
    "from pyspark.ml.classification import LogisticRegression\n",
    "\n",
    "lr = LogisticRegression(featuresCol=\"features\",labelCol=\"Survived\")"
   ]
  },
  {
   "cell_type": "code",
   "execution_count": 0,
   "metadata": {
    "application/vnd.databricks.v1+cell": {
     "cellMetadata": {},
     "inputWidgets": {},
     "nuid": "7e3fbfec-a7ad-44dd-9bb0-e22240e71ebc",
     "showTitle": false,
     "title": ""
    }
   },
   "outputs": [],
   "source": [
    "from pyspark.ml import Pipeline\n",
    "# define pipeline\n",
    "pl = Pipeline(stages = [si, ohe, va, lr])"
   ]
  },
  {
   "cell_type": "markdown",
   "metadata": {
    "application/vnd.databricks.v1+cell": {
     "cellMetadata": {},
     "inputWidgets": {},
     "nuid": "90bb4af9-fa8d-4d1e-b24d-ca909d0f95e4",
     "showTitle": false,
     "title": ""
    }
   },
   "source": [
    "##### 6.2 Split data into training and testing"
   ]
  },
  {
   "cell_type": "code",
   "execution_count": 0,
   "metadata": {
    "application/vnd.databricks.v1+cell": {
     "cellMetadata": {},
     "inputWidgets": {},
     "nuid": "bcf7680f-3ee6-4dae-a6f3-a61cab522fb2",
     "showTitle": false,
     "title": ""
    }
   },
   "outputs": [
    {
     "output_type": "stream",
     "name": "stdout",
     "output_type": "stream",
     "text": [
      "train 618 test 271\n"
     ]
    }
   ],
   "source": [
    "# split data\n",
    "train, test = titanic_final.randomSplit([0.7,0.3],seed=0)\n",
    "\n",
    "print(\"train {} test {}\".format(train.count(), test.count()))"
   ]
  },
  {
   "cell_type": "markdown",
   "metadata": {
    "application/vnd.databricks.v1+cell": {
     "cellMetadata": {},
     "inputWidgets": {},
     "nuid": "cb6f7239-70f7-467c-bcb8-be30713aa0ff",
     "showTitle": false,
     "title": ""
    }
   },
   "source": [
    "##### 6.3 fit to model"
   ]
  },
  {
   "cell_type": "code",
   "execution_count": 0,
   "metadata": {
    "application/vnd.databricks.v1+cell": {
     "cellMetadata": {},
     "inputWidgets": {},
     "nuid": "53fad4f0-8675-45bb-b23a-eb75526e4fcb",
     "showTitle": false,
     "title": ""
    }
   },
   "outputs": [],
   "source": [
    "# train the training set with predefined pipline\n",
    "plmodel = pl.fit(train)"
   ]
  },
  {
   "cell_type": "code",
   "execution_count": 0,
   "metadata": {
    "application/vnd.databricks.v1+cell": {
     "cellMetadata": {},
     "inputWidgets": {},
     "nuid": "903a0521-ba63-4c9b-9b0b-f0bed294f912",
     "showTitle": false,
     "title": ""
    }
   },
   "outputs": [],
   "source": [
    "# fitted model on the test data\n",
    "results = plmodel.transform(test)"
   ]
  },
  {
   "cell_type": "code",
   "execution_count": 0,
   "metadata": {
    "application/vnd.databricks.v1+cell": {
     "cellMetadata": {},
     "inputWidgets": {},
     "nuid": "57381d18-e6bd-4cd5-8699-db8cff6b980b",
     "showTitle": false,
     "title": ""
    }
   },
   "outputs": [
    {
     "output_type": "stream",
     "name": "stdout",
     "output_type": "stream",
     "text": [
      "Coefficients: [-0.034537817836000746,-1.0247165780235168,-0.24085965933583653,0.0017497630720823196,-0.1435968947744598,-0.056046921051805344,-0.07096776976685322,0.24968987411260246,-2.641291131192507]\nIntercept: 4.615451431020967\n"
     ]
    }
   ],
   "source": [
    "from pyspark.ml.classification import LogisticRegression\n",
    "# Print the coefficients and intercept for logistic regression\n",
    "print(\"Coefficients: \" + str(plmodel.stages[3].coefficients))\n",
    "print(\"Intercept: \" + str(plmodel.stages[3].intercept))"
   ]
  },
  {
   "cell_type": "markdown",
   "metadata": {
    "application/vnd.databricks.v1+cell": {
     "cellMetadata": {},
     "inputWidgets": {},
     "nuid": "26ff98ce-6c63-4688-be2b-47395e56306a",
     "showTitle": false,
     "title": ""
    }
   },
   "source": [
    "##### 6.4 Evaluate model performance"
   ]
  },
  {
   "cell_type": "code",
   "execution_count": 0,
   "metadata": {
    "application/vnd.databricks.v1+cell": {
     "cellMetadata": {},
     "inputWidgets": {},
     "nuid": "f84b26ad-e7dd-419c-a787-9998316a1b14",
     "showTitle": false,
     "title": ""
    }
   },
   "outputs": [
    {
     "output_type": "display_data",
     "data": {
      "text/html": [
       "<style scoped>\n",
       "  .table-result-container {\n",
       "    max-height: 300px;\n",
       "    overflow: auto;\n",
       "  }\n",
       "  table, th, td {\n",
       "    border: 1px solid black;\n",
       "    border-collapse: collapse;\n",
       "  }\n",
       "  th, td {\n",
       "    padding: 5px;\n",
       "  }\n",
       "  th {\n",
       "    text-align: left;\n",
       "  }\n",
       "</style><div class='table-result-container'><table class='table-result'><thead style='background-color: white'><tr><th>Survived</th><th>Age</th><th>Pclass</th><th>Sex</th><th>SibSp</th><th>fare</th><th>Parch</th><th>Embarked</th><th>AgeNA</th><th>Embarked_idx</th><th>Sex_idx</th><th>Embarked_ohe</th><th>Sex_ohe</th><th>features</th><th>rawPrediction</th><th>probability</th><th>prediction</th></tr></thead><tbody><tr><td>0.0</td><td>1.0</td><td>3.0</td><td>male</td><td>4.0</td><td>39.6875</td><td>1.0</td><td>S</td><td>0.0</td><td>0.0</td><td>0.0</td><td>Map(vectorType -> sparse, length -> 2, indices -> List(0), values -> List(1.0))</td><td>Map(vectorType -> sparse, length -> 1, indices -> List(0), values -> List(1.0))</td><td>Map(vectorType -> dense, length -> 9, values -> List(1.0, 3.0, 4.0, 39.6875, 1.0, 0.0, 1.0, 0.0, 1.0))</td><td>Map(vectorType -> dense, length -> 2, values -> List(2.2430868320394843, -2.2430868320394843))</td><td>Map(vectorType -> dense, length -> 2, values -> List(0.904052549008072, 0.09594745099192803))</td><td>0.0</td></tr><tr><td>0.0</td><td>2.0</td><td>3.0</td><td>female</td><td>3.0</td><td>27.9</td><td>2.0</td><td>S</td><td>0.0</td><td>0.0</td><td>1.0</td><td>Map(vectorType -> sparse, length -> 2, indices -> List(0), values -> List(1.0))</td><td>Map(vectorType -> sparse, length -> 1, indices -> List(), values -> List())</td><td>Map(vectorType -> dense, length -> 9, values -> List(2.0, 3.0, 3.0, 27.9, 2.0, 0.0, 1.0, 0.0, 0.0))</td><td>Map(vectorType -> dense, length -> 2, values -> List(-0.4403039136662299, 0.4403039136662299))</td><td>Map(vectorType -> dense, length -> 2, values -> List(0.39166855509357174, 0.6083314449064283))</td><td>1.0</td></tr><tr><td>0.0</td><td>2.0</td><td>3.0</td><td>male</td><td>4.0</td><td>39.6875</td><td>1.0</td><td>S</td><td>0.0</td><td>0.0</td><td>0.0</td><td>Map(vectorType -> sparse, length -> 2, indices -> List(0), values -> List(1.0))</td><td>Map(vectorType -> sparse, length -> 1, indices -> List(0), values -> List(1.0))</td><td>Map(vectorType -> dense, length -> 9, values -> List(2.0, 3.0, 4.0, 39.6875, 1.0, 0.0, 1.0, 0.0, 1.0))</td><td>Map(vectorType -> dense, length -> 2, values -> List(2.2776246498754844, -2.2776246498754844))</td><td>Map(vectorType -> dense, length -> 2, values -> List(0.9070068906498442, 0.09299310935015581))</td><td>0.0</td></tr><tr><td>0.0</td><td>9.0</td><td>3.0</td><td>female</td><td>3.0</td><td>27.9</td><td>2.0</td><td>S</td><td>0.0</td><td>0.0</td><td>1.0</td><td>Map(vectorType -> sparse, length -> 2, indices -> List(0), values -> List(1.0))</td><td>Map(vectorType -> sparse, length -> 1, indices -> List(), values -> List())</td><td>Map(vectorType -> dense, length -> 9, values -> List(9.0, 3.0, 3.0, 27.9, 2.0, 0.0, 1.0, 0.0, 0.0))</td><td>Map(vectorType -> dense, length -> 2, values -> List(-0.19853918881422405, 0.19853918881422405))</td><td>Map(vectorType -> dense, length -> 2, values -> List(0.4505276039251695, 0.5494723960748304))</td><td>1.0</td></tr><tr><td>0.0</td><td>9.0</td><td>3.0</td><td>female</td><td>4.0</td><td>31.275</td><td>2.0</td><td>S</td><td>0.0</td><td>0.0</td><td>1.0</td><td>Map(vectorType -> sparse, length -> 2, indices -> List(0), values -> List(1.0))</td><td>Map(vectorType -> sparse, length -> 1, indices -> List(), values -> List())</td><td>Map(vectorType -> dense, length -> 9, values -> List(9.0, 3.0, 4.0, 31.275, 2.0, 0.0, 1.0, 0.0, 0.0))</td><td>Map(vectorType -> dense, length -> 2, values -> List(0.036415020153334865, -0.036415020153334865))</td><td>Map(vectorType -> dense, length -> 2, values -> List(0.509102749166052, 0.490897250833948))</td><td>0.0</td></tr></tbody></table></div>"
      ]
     },
     "metadata": {
      "application/vnd.databricks.v1+output": {
       "addedWidgets": {},
       "aggData": [],
       "aggError": "",
       "aggOverflow": false,
       "aggSchema": [],
       "aggSeriesLimitReached": false,
       "aggType": "",
       "arguments": {},
       "columnCustomDisplayInfos": {},
       "data": [
        [
         0.0,
         1.0,
         3.0,
         "male",
         4.0,
         39.6875,
         1.0,
         "S",
         0.0,
         0.0,
         0.0,
         {
          "indices": [
           0
          ],
          "length": 2,
          "values": [
           1.0
          ],
          "vectorType": "sparse"
         },
         {
          "indices": [
           0
          ],
          "length": 1,
          "values": [
           1.0
          ],
          "vectorType": "sparse"
         },
         {
          "length": 9,
          "values": [
           1.0,
           3.0,
           4.0,
           39.6875,
           1.0,
           0.0,
           1.0,
           0.0,
           1.0
          ],
          "vectorType": "dense"
         },
         {
          "length": 2,
          "values": [
           2.2430868320394843,
           -2.2430868320394843
          ],
          "vectorType": "dense"
         },
         {
          "length": 2,
          "values": [
           0.904052549008072,
           0.09594745099192803
          ],
          "vectorType": "dense"
         },
         0.0
        ],
        [
         0.0,
         2.0,
         3.0,
         "female",
         3.0,
         27.9,
         2.0,
         "S",
         0.0,
         0.0,
         1.0,
         {
          "indices": [
           0
          ],
          "length": 2,
          "values": [
           1.0
          ],
          "vectorType": "sparse"
         },
         {
          "indices": [],
          "length": 1,
          "values": [],
          "vectorType": "sparse"
         },
         {
          "length": 9,
          "values": [
           2.0,
           3.0,
           3.0,
           27.9,
           2.0,
           0.0,
           1.0,
           0.0,
           0.0
          ],
          "vectorType": "dense"
         },
         {
          "length": 2,
          "values": [
           -0.4403039136662299,
           0.4403039136662299
          ],
          "vectorType": "dense"
         },
         {
          "length": 2,
          "values": [
           0.39166855509357174,
           0.6083314449064283
          ],
          "vectorType": "dense"
         },
         1.0
        ],
        [
         0.0,
         2.0,
         3.0,
         "male",
         4.0,
         39.6875,
         1.0,
         "S",
         0.0,
         0.0,
         0.0,
         {
          "indices": [
           0
          ],
          "length": 2,
          "values": [
           1.0
          ],
          "vectorType": "sparse"
         },
         {
          "indices": [
           0
          ],
          "length": 1,
          "values": [
           1.0
          ],
          "vectorType": "sparse"
         },
         {
          "length": 9,
          "values": [
           2.0,
           3.0,
           4.0,
           39.6875,
           1.0,
           0.0,
           1.0,
           0.0,
           1.0
          ],
          "vectorType": "dense"
         },
         {
          "length": 2,
          "values": [
           2.2776246498754844,
           -2.2776246498754844
          ],
          "vectorType": "dense"
         },
         {
          "length": 2,
          "values": [
           0.9070068906498442,
           0.09299310935015581
          ],
          "vectorType": "dense"
         },
         0.0
        ],
        [
         0.0,
         9.0,
         3.0,
         "female",
         3.0,
         27.9,
         2.0,
         "S",
         0.0,
         0.0,
         1.0,
         {
          "indices": [
           0
          ],
          "length": 2,
          "values": [
           1.0
          ],
          "vectorType": "sparse"
         },
         {
          "indices": [],
          "length": 1,
          "values": [],
          "vectorType": "sparse"
         },
         {
          "length": 9,
          "values": [
           9.0,
           3.0,
           3.0,
           27.9,
           2.0,
           0.0,
           1.0,
           0.0,
           0.0
          ],
          "vectorType": "dense"
         },
         {
          "length": 2,
          "values": [
           -0.19853918881422405,
           0.19853918881422405
          ],
          "vectorType": "dense"
         },
         {
          "length": 2,
          "values": [
           0.4505276039251695,
           0.5494723960748304
          ],
          "vectorType": "dense"
         },
         1.0
        ],
        [
         0.0,
         9.0,
         3.0,
         "female",
         4.0,
         31.275,
         2.0,
         "S",
         0.0,
         0.0,
         1.0,
         {
          "indices": [
           0
          ],
          "length": 2,
          "values": [
           1.0
          ],
          "vectorType": "sparse"
         },
         {
          "indices": [],
          "length": 1,
          "values": [],
          "vectorType": "sparse"
         },
         {
          "length": 9,
          "values": [
           9.0,
           3.0,
           4.0,
           31.275,
           2.0,
           0.0,
           1.0,
           0.0,
           0.0
          ],
          "vectorType": "dense"
         },
         {
          "length": 2,
          "values": [
           0.036415020153334865,
           -0.036415020153334865
          ],
          "vectorType": "dense"
         },
         {
          "length": 2,
          "values": [
           0.509102749166052,
           0.490897250833948
          ],
          "vectorType": "dense"
         },
         0.0
        ]
       ],
       "datasetInfos": [],
       "dbfsResultPath": null,
       "isJsonSchema": true,
       "metadata": {},
       "overflow": false,
       "plotOptions": {
        "customPlotOptions": {},
        "displayType": "table",
        "pivotAggregation": null,
        "pivotColumns": null,
        "xColumns": null,
        "yColumns": null
       },
       "removedWidgets": [],
       "schema": [
        {
         "metadata": "{}",
         "name": "Survived",
         "type": "\"double\""
        },
        {
         "metadata": "{}",
         "name": "Age",
         "type": "\"double\""
        },
        {
         "metadata": "{}",
         "name": "Pclass",
         "type": "\"double\""
        },
        {
         "metadata": "{}",
         "name": "Sex",
         "type": "\"string\""
        },
        {
         "metadata": "{}",
         "name": "SibSp",
         "type": "\"double\""
        },
        {
         "metadata": "{}",
         "name": "fare",
         "type": "\"double\""
        },
        {
         "metadata": "{}",
         "name": "Parch",
         "type": "\"double\""
        },
        {
         "metadata": "{}",
         "name": "Embarked",
         "type": "\"string\""
        },
        {
         "metadata": "{}",
         "name": "AgeNA",
         "type": "\"double\""
        },
        {
         "metadata": "{\"ml_attr\":{\"vals\":[\"S\",\"C\",\"Q\"],\"type\":\"nominal\",\"name\":\"Embarked_idx\"}}",
         "name": "Embarked_idx",
         "type": "\"double\""
        },
        {
         "metadata": "{\"ml_attr\":{\"vals\":[\"male\",\"female\"],\"type\":\"nominal\",\"name\":\"Sex_idx\"}}",
         "name": "Sex_idx",
         "type": "\"double\""
        },
        {
         "metadata": "{\"ml_attr\":{\"attrs\":{\"binary\":[{\"idx\":0,\"name\":\"S\"},{\"idx\":1,\"name\":\"C\"}]},\"num_attrs\":2}}",
         "name": "Embarked_ohe",
         "type": "{\"type\":\"udt\",\"class\":\"org.apache.spark.ml.linalg.VectorUDT\",\"pyClass\":\"pyspark.ml.linalg.VectorUDT\",\"sqlType\":{\"type\":\"struct\",\"fields\":[{\"name\":\"type\",\"type\":\"byte\",\"nullable\":false,\"metadata\":{}},{\"name\":\"size\",\"type\":\"integer\",\"nullable\":true,\"metadata\":{}},{\"name\":\"indices\",\"type\":{\"type\":\"array\",\"elementType\":\"integer\",\"containsNull\":false},\"nullable\":true,\"metadata\":{}},{\"name\":\"values\",\"type\":{\"type\":\"array\",\"elementType\":\"double\",\"containsNull\":false},\"nullable\":true,\"metadata\":{}}]}}"
        },
        {
         "metadata": "{\"ml_attr\":{\"attrs\":{\"binary\":[{\"idx\":0,\"name\":\"male\"}]},\"num_attrs\":1}}",
         "name": "Sex_ohe",
         "type": "{\"type\":\"udt\",\"class\":\"org.apache.spark.ml.linalg.VectorUDT\",\"pyClass\":\"pyspark.ml.linalg.VectorUDT\",\"sqlType\":{\"type\":\"struct\",\"fields\":[{\"name\":\"type\",\"type\":\"byte\",\"nullable\":false,\"metadata\":{}},{\"name\":\"size\",\"type\":\"integer\",\"nullable\":true,\"metadata\":{}},{\"name\":\"indices\",\"type\":{\"type\":\"array\",\"elementType\":\"integer\",\"containsNull\":false},\"nullable\":true,\"metadata\":{}},{\"name\":\"values\",\"type\":{\"type\":\"array\",\"elementType\":\"double\",\"containsNull\":false},\"nullable\":true,\"metadata\":{}}]}}"
        },
        {
         "metadata": "{\"ml_attr\":{\"attrs\":{\"numeric\":[{\"idx\":0,\"name\":\"Age\"},{\"idx\":1,\"name\":\"Pclass\"},{\"idx\":2,\"name\":\"SibSp\"},{\"idx\":3,\"name\":\"fare\"},{\"idx\":4,\"name\":\"Parch\"},{\"idx\":5,\"name\":\"AgeNA\"}],\"binary\":[{\"idx\":6,\"name\":\"Embarked_ohe_S\"},{\"idx\":7,\"name\":\"Embarked_ohe_C\"},{\"idx\":8,\"name\":\"Sex_ohe_male\"}]},\"num_attrs\":9}}",
         "name": "features",
         "type": "{\"type\":\"udt\",\"class\":\"org.apache.spark.ml.linalg.VectorUDT\",\"pyClass\":\"pyspark.ml.linalg.VectorUDT\",\"sqlType\":{\"type\":\"struct\",\"fields\":[{\"name\":\"type\",\"type\":\"byte\",\"nullable\":false,\"metadata\":{}},{\"name\":\"size\",\"type\":\"integer\",\"nullable\":true,\"metadata\":{}},{\"name\":\"indices\",\"type\":{\"type\":\"array\",\"elementType\":\"integer\",\"containsNull\":false},\"nullable\":true,\"metadata\":{}},{\"name\":\"values\",\"type\":{\"type\":\"array\",\"elementType\":\"double\",\"containsNull\":false},\"nullable\":true,\"metadata\":{}}]}}"
        },
        {
         "metadata": "{\"ml_attr\":{\"num_attrs\":2}}",
         "name": "rawPrediction",
         "type": "{\"type\":\"udt\",\"class\":\"org.apache.spark.ml.linalg.VectorUDT\",\"pyClass\":\"pyspark.ml.linalg.VectorUDT\",\"sqlType\":{\"type\":\"struct\",\"fields\":[{\"name\":\"type\",\"type\":\"byte\",\"nullable\":false,\"metadata\":{}},{\"name\":\"size\",\"type\":\"integer\",\"nullable\":true,\"metadata\":{}},{\"name\":\"indices\",\"type\":{\"type\":\"array\",\"elementType\":\"integer\",\"containsNull\":false},\"nullable\":true,\"metadata\":{}},{\"name\":\"values\",\"type\":{\"type\":\"array\",\"elementType\":\"double\",\"containsNull\":false},\"nullable\":true,\"metadata\":{}}]}}"
        },
        {
         "metadata": "{\"ml_attr\":{\"num_attrs\":2}}",
         "name": "probability",
         "type": "{\"type\":\"udt\",\"class\":\"org.apache.spark.ml.linalg.VectorUDT\",\"pyClass\":\"pyspark.ml.linalg.VectorUDT\",\"sqlType\":{\"type\":\"struct\",\"fields\":[{\"name\":\"type\",\"type\":\"byte\",\"nullable\":false,\"metadata\":{}},{\"name\":\"size\",\"type\":\"integer\",\"nullable\":true,\"metadata\":{}},{\"name\":\"indices\",\"type\":{\"type\":\"array\",\"elementType\":\"integer\",\"containsNull\":false},\"nullable\":true,\"metadata\":{}},{\"name\":\"values\",\"type\":{\"type\":\"array\",\"elementType\":\"double\",\"containsNull\":false},\"nullable\":true,\"metadata\":{}}]}}"
        },
        {
         "metadata": "{\"ml_attr\":{\"type\":\"nominal\",\"num_vals\":2}}",
         "name": "prediction",
         "type": "\"double\""
        }
       ],
       "type": "table"
      }
     },
     "output_type": "display_data"
    }
   ],
   "source": [
    "display(results.limit(5))"
   ]
  },
  {
   "cell_type": "code",
   "execution_count": 0,
   "metadata": {
    "application/vnd.databricks.v1+cell": {
     "cellMetadata": {},
     "inputWidgets": {},
     "nuid": "d8bf391b-66e6-41db-bae9-df3fc30b9b3a",
     "showTitle": false,
     "title": ""
    }
   },
   "outputs": [
    {
     "output_type": "stream",
     "name": "stdout",
     "output_type": "stream",
     "text": [
      "0.8339483394833949\n0.8772224754957838\n0.8328755708063246\n"
     ]
    }
   ],
   "source": [
    "from pyspark.ml.evaluation import MulticlassClassificationEvaluator\n",
    "from pyspark.ml.evaluation import BinaryClassificationEvaluator\n",
    "\n",
    "# evaluate the acu with BinaryClassificationEvaluator\n",
    "# evaluate the accuracy and f1 with MultiClassificationEvaluator\n",
    "accuracy = MulticlassClassificationEvaluator(labelCol='Survived', metricName=\"accuracy\")\n",
    "auc = BinaryClassificationEvaluator(labelCol='Survived', metricName=\"areaUnderROC\")\n",
    "f1 = MulticlassClassificationEvaluator(labelCol='Survived', metricName=\"f1\")\n",
    "\n",
    "print(accuracy.evaluate(results))\n",
    "print(auc.evaluate(results))\n",
    "print(f1.evaluate(results))\n"
   ]
  },
  {
   "cell_type": "markdown",
   "metadata": {
    "application/vnd.databricks.v1+cell": {
     "cellMetadata": {},
     "inputWidgets": {},
     "nuid": "36ae91b3-e718-480b-9b65-fe784d16685c",
     "showTitle": false,
     "title": ""
    }
   },
   "source": [
    "##### Random Forest"
   ]
  },
  {
   "cell_type": "code",
   "execution_count": 0,
   "metadata": {
    "application/vnd.databricks.v1+cell": {
     "cellMetadata": {},
     "inputWidgets": {},
     "nuid": "adec0a6f-264e-48c6-8aba-c1242da1ea4c",
     "showTitle": false,
     "title": ""
    }
   },
   "outputs": [
    {
     "output_type": "stream",
     "name": "stdout",
     "output_type": "stream",
     "text": [
      "0.8081180811808119\n0.872891497606565\n0.8074465495085243\n"
     ]
    }
   ],
   "source": [
    "from pyspark.ml.classification import RandomForestClassifier\n",
    "\n",
    "# Train a RandomForest model.\n",
    "rf = RandomForestClassifier(labelCol=\"Survived\", featuresCol=\"features\", numTrees=10)\n",
    "\n",
    "# build pipeline of rf\n",
    "rfpl = Pipeline(stages = [si, ohe, va, rf])\n",
    "\n",
    "# train the training set with predefined pipline\n",
    "plmodel_rf = rfpl.fit(train)\n",
    "\n",
    "# fitted model on the test data\n",
    "rf_results = plmodel_rf.transform(test)\n",
    "\n",
    "# report performance metrics\n",
    "print(accuracy.evaluate(rf_results))\n",
    "print(auc.evaluate(rf_results))\n",
    "print(f1.evaluate(rf_results))"
   ]
  },
  {
   "cell_type": "code",
   "execution_count": 0,
   "metadata": {
    "application/vnd.databricks.v1+cell": {
     "cellMetadata": {},
     "inputWidgets": {},
     "nuid": "7fd1c59b-67b5-4127-b359-2e74c47fe58f",
     "showTitle": false,
     "title": ""
    }
   },
   "outputs": [
    {
     "output_type": "display_data",
     "data": {
      "text/html": [
       "<style scoped>\n",
       "  .table-result-container {\n",
       "    max-height: 300px;\n",
       "    overflow: auto;\n",
       "  }\n",
       "  table, th, td {\n",
       "    border: 1px solid black;\n",
       "    border-collapse: collapse;\n",
       "  }\n",
       "  th, td {\n",
       "    padding: 5px;\n",
       "  }\n",
       "  th {\n",
       "    text-align: left;\n",
       "  }\n",
       "</style><div class='table-result-container'><table class='table-result'><thead style='background-color: white'><tr><th>Survived</th><th>Age</th><th>Pclass</th><th>Sex</th><th>SibSp</th><th>fare</th><th>Parch</th><th>Embarked</th><th>AgeNA</th><th>Embarked_idx</th><th>Sex_idx</th><th>Embarked_ohe</th><th>Sex_ohe</th><th>features</th><th>rawPrediction</th><th>probability</th><th>prediction</th></tr></thead><tbody><tr><td>0.0</td><td>1.0</td><td>3.0</td><td>male</td><td>4.0</td><td>39.6875</td><td>1.0</td><td>S</td><td>0.0</td><td>0.0</td><td>0.0</td><td>Map(vectorType -> sparse, length -> 2, indices -> List(0), values -> List(1.0))</td><td>Map(vectorType -> sparse, length -> 1, indices -> List(0), values -> List(1.0))</td><td>Map(vectorType -> dense, length -> 9, values -> List(1.0, 3.0, 4.0, 39.6875, 1.0, 0.0, 1.0, 0.0, 1.0))</td><td>Map(vectorType -> dense, length -> 2, values -> List(14.549486624486626, 5.450513375513375))</td><td>Map(vectorType -> dense, length -> 2, values -> List(0.7274743312243312, 0.27252566877566875))</td><td>0.0</td></tr><tr><td>0.0</td><td>2.0</td><td>3.0</td><td>female</td><td>3.0</td><td>27.9</td><td>2.0</td><td>S</td><td>0.0</td><td>0.0</td><td>1.0</td><td>Map(vectorType -> sparse, length -> 2, indices -> List(0), values -> List(1.0))</td><td>Map(vectorType -> sparse, length -> 1, indices -> List(), values -> List())</td><td>Map(vectorType -> dense, length -> 9, values -> List(2.0, 3.0, 3.0, 27.9, 2.0, 0.0, 1.0, 0.0, 0.0))</td><td>Map(vectorType -> dense, length -> 2, values -> List(17.01424658674659, 2.9857534132534136))</td><td>Map(vectorType -> dense, length -> 2, values -> List(0.8507123293373294, 0.14928767066267065))</td><td>0.0</td></tr><tr><td>0.0</td><td>2.0</td><td>3.0</td><td>male</td><td>4.0</td><td>39.6875</td><td>1.0</td><td>S</td><td>0.0</td><td>0.0</td><td>0.0</td><td>Map(vectorType -> sparse, length -> 2, indices -> List(0), values -> List(1.0))</td><td>Map(vectorType -> sparse, length -> 1, indices -> List(0), values -> List(1.0))</td><td>Map(vectorType -> dense, length -> 9, values -> List(2.0, 3.0, 4.0, 39.6875, 1.0, 0.0, 1.0, 0.0, 1.0))</td><td>Map(vectorType -> dense, length -> 2, values -> List(14.549486624486626, 5.450513375513375))</td><td>Map(vectorType -> dense, length -> 2, values -> List(0.7274743312243312, 0.27252566877566875))</td><td>0.0</td></tr><tr><td>0.0</td><td>9.0</td><td>3.0</td><td>female</td><td>3.0</td><td>27.9</td><td>2.0</td><td>S</td><td>0.0</td><td>0.0</td><td>1.0</td><td>Map(vectorType -> sparse, length -> 2, indices -> List(0), values -> List(1.0))</td><td>Map(vectorType -> sparse, length -> 1, indices -> List(), values -> List())</td><td>Map(vectorType -> dense, length -> 9, values -> List(9.0, 3.0, 3.0, 27.9, 2.0, 0.0, 1.0, 0.0, 0.0))</td><td>Map(vectorType -> dense, length -> 2, values -> List(17.206670829170832, 2.7933291708291708))</td><td>Map(vectorType -> dense, length -> 2, values -> List(0.8603335414585415, 0.1396664585414585))</td><td>0.0</td></tr><tr><td>0.0</td><td>9.0</td><td>3.0</td><td>female</td><td>4.0</td><td>31.275</td><td>2.0</td><td>S</td><td>0.0</td><td>0.0</td><td>1.0</td><td>Map(vectorType -> sparse, length -> 2, indices -> List(0), values -> List(1.0))</td><td>Map(vectorType -> sparse, length -> 1, indices -> List(), values -> List())</td><td>Map(vectorType -> dense, length -> 9, values -> List(9.0, 3.0, 4.0, 31.275, 2.0, 0.0, 1.0, 0.0, 0.0))</td><td>Map(vectorType -> dense, length -> 2, values -> List(16.456670829170832, 3.543329170829171))</td><td>Map(vectorType -> dense, length -> 2, values -> List(0.8228335414585415, 0.17716645854145852))</td><td>0.0</td></tr></tbody></table></div>"
      ]
     },
     "metadata": {
      "application/vnd.databricks.v1+output": {
       "addedWidgets": {},
       "aggData": [],
       "aggError": "",
       "aggOverflow": false,
       "aggSchema": [],
       "aggSeriesLimitReached": false,
       "aggType": "",
       "arguments": {},
       "columnCustomDisplayInfos": {},
       "data": [
        [
         0.0,
         1.0,
         3.0,
         "male",
         4.0,
         39.6875,
         1.0,
         "S",
         0.0,
         0.0,
         0.0,
         {
          "indices": [
           0
          ],
          "length": 2,
          "values": [
           1.0
          ],
          "vectorType": "sparse"
         },
         {
          "indices": [
           0
          ],
          "length": 1,
          "values": [
           1.0
          ],
          "vectorType": "sparse"
         },
         {
          "length": 9,
          "values": [
           1.0,
           3.0,
           4.0,
           39.6875,
           1.0,
           0.0,
           1.0,
           0.0,
           1.0
          ],
          "vectorType": "dense"
         },
         {
          "length": 2,
          "values": [
           14.549486624486626,
           5.450513375513375
          ],
          "vectorType": "dense"
         },
         {
          "length": 2,
          "values": [
           0.7274743312243312,
           0.27252566877566875
          ],
          "vectorType": "dense"
         },
         0.0
        ],
        [
         0.0,
         2.0,
         3.0,
         "female",
         3.0,
         27.9,
         2.0,
         "S",
         0.0,
         0.0,
         1.0,
         {
          "indices": [
           0
          ],
          "length": 2,
          "values": [
           1.0
          ],
          "vectorType": "sparse"
         },
         {
          "indices": [],
          "length": 1,
          "values": [],
          "vectorType": "sparse"
         },
         {
          "length": 9,
          "values": [
           2.0,
           3.0,
           3.0,
           27.9,
           2.0,
           0.0,
           1.0,
           0.0,
           0.0
          ],
          "vectorType": "dense"
         },
         {
          "length": 2,
          "values": [
           17.01424658674659,
           2.9857534132534136
          ],
          "vectorType": "dense"
         },
         {
          "length": 2,
          "values": [
           0.8507123293373294,
           0.14928767066267065
          ],
          "vectorType": "dense"
         },
         0.0
        ],
        [
         0.0,
         2.0,
         3.0,
         "male",
         4.0,
         39.6875,
         1.0,
         "S",
         0.0,
         0.0,
         0.0,
         {
          "indices": [
           0
          ],
          "length": 2,
          "values": [
           1.0
          ],
          "vectorType": "sparse"
         },
         {
          "indices": [
           0
          ],
          "length": 1,
          "values": [
           1.0
          ],
          "vectorType": "sparse"
         },
         {
          "length": 9,
          "values": [
           2.0,
           3.0,
           4.0,
           39.6875,
           1.0,
           0.0,
           1.0,
           0.0,
           1.0
          ],
          "vectorType": "dense"
         },
         {
          "length": 2,
          "values": [
           14.549486624486626,
           5.450513375513375
          ],
          "vectorType": "dense"
         },
         {
          "length": 2,
          "values": [
           0.7274743312243312,
           0.27252566877566875
          ],
          "vectorType": "dense"
         },
         0.0
        ],
        [
         0.0,
         9.0,
         3.0,
         "female",
         3.0,
         27.9,
         2.0,
         "S",
         0.0,
         0.0,
         1.0,
         {
          "indices": [
           0
          ],
          "length": 2,
          "values": [
           1.0
          ],
          "vectorType": "sparse"
         },
         {
          "indices": [],
          "length": 1,
          "values": [],
          "vectorType": "sparse"
         },
         {
          "length": 9,
          "values": [
           9.0,
           3.0,
           3.0,
           27.9,
           2.0,
           0.0,
           1.0,
           0.0,
           0.0
          ],
          "vectorType": "dense"
         },
         {
          "length": 2,
          "values": [
           17.206670829170832,
           2.7933291708291708
          ],
          "vectorType": "dense"
         },
         {
          "length": 2,
          "values": [
           0.8603335414585415,
           0.1396664585414585
          ],
          "vectorType": "dense"
         },
         0.0
        ],
        [
         0.0,
         9.0,
         3.0,
         "female",
         4.0,
         31.275,
         2.0,
         "S",
         0.0,
         0.0,
         1.0,
         {
          "indices": [
           0
          ],
          "length": 2,
          "values": [
           1.0
          ],
          "vectorType": "sparse"
         },
         {
          "indices": [],
          "length": 1,
          "values": [],
          "vectorType": "sparse"
         },
         {
          "length": 9,
          "values": [
           9.0,
           3.0,
           4.0,
           31.275,
           2.0,
           0.0,
           1.0,
           0.0,
           0.0
          ],
          "vectorType": "dense"
         },
         {
          "length": 2,
          "values": [
           16.456670829170832,
           3.543329170829171
          ],
          "vectorType": "dense"
         },
         {
          "length": 2,
          "values": [
           0.8228335414585415,
           0.17716645854145852
          ],
          "vectorType": "dense"
         },
         0.0
        ]
       ],
       "datasetInfos": [],
       "dbfsResultPath": null,
       "isJsonSchema": true,
       "metadata": {},
       "overflow": false,
       "plotOptions": {
        "customPlotOptions": {},
        "displayType": "table",
        "pivotAggregation": null,
        "pivotColumns": null,
        "xColumns": null,
        "yColumns": null
       },
       "removedWidgets": [],
       "schema": [
        {
         "metadata": "{}",
         "name": "Survived",
         "type": "\"double\""
        },
        {
         "metadata": "{}",
         "name": "Age",
         "type": "\"double\""
        },
        {
         "metadata": "{}",
         "name": "Pclass",
         "type": "\"double\""
        },
        {
         "metadata": "{}",
         "name": "Sex",
         "type": "\"string\""
        },
        {
         "metadata": "{}",
         "name": "SibSp",
         "type": "\"double\""
        },
        {
         "metadata": "{}",
         "name": "fare",
         "type": "\"double\""
        },
        {
         "metadata": "{}",
         "name": "Parch",
         "type": "\"double\""
        },
        {
         "metadata": "{}",
         "name": "Embarked",
         "type": "\"string\""
        },
        {
         "metadata": "{}",
         "name": "AgeNA",
         "type": "\"double\""
        },
        {
         "metadata": "{\"ml_attr\":{\"vals\":[\"S\",\"C\",\"Q\"],\"type\":\"nominal\",\"name\":\"Embarked_idx\"}}",
         "name": "Embarked_idx",
         "type": "\"double\""
        },
        {
         "metadata": "{\"ml_attr\":{\"vals\":[\"male\",\"female\"],\"type\":\"nominal\",\"name\":\"Sex_idx\"}}",
         "name": "Sex_idx",
         "type": "\"double\""
        },
        {
         "metadata": "{\"ml_attr\":{\"attrs\":{\"binary\":[{\"idx\":0,\"name\":\"S\"},{\"idx\":1,\"name\":\"C\"}]},\"num_attrs\":2}}",
         "name": "Embarked_ohe",
         "type": "{\"type\":\"udt\",\"class\":\"org.apache.spark.ml.linalg.VectorUDT\",\"pyClass\":\"pyspark.ml.linalg.VectorUDT\",\"sqlType\":{\"type\":\"struct\",\"fields\":[{\"name\":\"type\",\"type\":\"byte\",\"nullable\":false,\"metadata\":{}},{\"name\":\"size\",\"type\":\"integer\",\"nullable\":true,\"metadata\":{}},{\"name\":\"indices\",\"type\":{\"type\":\"array\",\"elementType\":\"integer\",\"containsNull\":false},\"nullable\":true,\"metadata\":{}},{\"name\":\"values\",\"type\":{\"type\":\"array\",\"elementType\":\"double\",\"containsNull\":false},\"nullable\":true,\"metadata\":{}}]}}"
        },
        {
         "metadata": "{\"ml_attr\":{\"attrs\":{\"binary\":[{\"idx\":0,\"name\":\"male\"}]},\"num_attrs\":1}}",
         "name": "Sex_ohe",
         "type": "{\"type\":\"udt\",\"class\":\"org.apache.spark.ml.linalg.VectorUDT\",\"pyClass\":\"pyspark.ml.linalg.VectorUDT\",\"sqlType\":{\"type\":\"struct\",\"fields\":[{\"name\":\"type\",\"type\":\"byte\",\"nullable\":false,\"metadata\":{}},{\"name\":\"size\",\"type\":\"integer\",\"nullable\":true,\"metadata\":{}},{\"name\":\"indices\",\"type\":{\"type\":\"array\",\"elementType\":\"integer\",\"containsNull\":false},\"nullable\":true,\"metadata\":{}},{\"name\":\"values\",\"type\":{\"type\":\"array\",\"elementType\":\"double\",\"containsNull\":false},\"nullable\":true,\"metadata\":{}}]}}"
        },
        {
         "metadata": "{\"ml_attr\":{\"attrs\":{\"numeric\":[{\"idx\":0,\"name\":\"Age\"},{\"idx\":1,\"name\":\"Pclass\"},{\"idx\":2,\"name\":\"SibSp\"},{\"idx\":3,\"name\":\"fare\"},{\"idx\":4,\"name\":\"Parch\"},{\"idx\":5,\"name\":\"AgeNA\"}],\"binary\":[{\"idx\":6,\"name\":\"Embarked_ohe_S\"},{\"idx\":7,\"name\":\"Embarked_ohe_C\"},{\"idx\":8,\"name\":\"Sex_ohe_male\"}]},\"num_attrs\":9}}",
         "name": "features",
         "type": "{\"type\":\"udt\",\"class\":\"org.apache.spark.ml.linalg.VectorUDT\",\"pyClass\":\"pyspark.ml.linalg.VectorUDT\",\"sqlType\":{\"type\":\"struct\",\"fields\":[{\"name\":\"type\",\"type\":\"byte\",\"nullable\":false,\"metadata\":{}},{\"name\":\"size\",\"type\":\"integer\",\"nullable\":true,\"metadata\":{}},{\"name\":\"indices\",\"type\":{\"type\":\"array\",\"elementType\":\"integer\",\"containsNull\":false},\"nullable\":true,\"metadata\":{}},{\"name\":\"values\",\"type\":{\"type\":\"array\",\"elementType\":\"double\",\"containsNull\":false},\"nullable\":true,\"metadata\":{}}]}}"
        },
        {
         "metadata": "{\"ml_attr\":{\"num_attrs\":2}}",
         "name": "rawPrediction",
         "type": "{\"type\":\"udt\",\"class\":\"org.apache.spark.ml.linalg.VectorUDT\",\"pyClass\":\"pyspark.ml.linalg.VectorUDT\",\"sqlType\":{\"type\":\"struct\",\"fields\":[{\"name\":\"type\",\"type\":\"byte\",\"nullable\":false,\"metadata\":{}},{\"name\":\"size\",\"type\":\"integer\",\"nullable\":true,\"metadata\":{}},{\"name\":\"indices\",\"type\":{\"type\":\"array\",\"elementType\":\"integer\",\"containsNull\":false},\"nullable\":true,\"metadata\":{}},{\"name\":\"values\",\"type\":{\"type\":\"array\",\"elementType\":\"double\",\"containsNull\":false},\"nullable\":true,\"metadata\":{}}]}}"
        },
        {
         "metadata": "{\"ml_attr\":{\"num_attrs\":2}}",
         "name": "probability",
         "type": "{\"type\":\"udt\",\"class\":\"org.apache.spark.ml.linalg.VectorUDT\",\"pyClass\":\"pyspark.ml.linalg.VectorUDT\",\"sqlType\":{\"type\":\"struct\",\"fields\":[{\"name\":\"type\",\"type\":\"byte\",\"nullable\":false,\"metadata\":{}},{\"name\":\"size\",\"type\":\"integer\",\"nullable\":true,\"metadata\":{}},{\"name\":\"indices\",\"type\":{\"type\":\"array\",\"elementType\":\"integer\",\"containsNull\":false},\"nullable\":true,\"metadata\":{}},{\"name\":\"values\",\"type\":{\"type\":\"array\",\"elementType\":\"double\",\"containsNull\":false},\"nullable\":true,\"metadata\":{}}]}}"
        },
        {
         "metadata": "{\"ml_attr\":{\"type\":\"nominal\",\"num_vals\":2}}",
         "name": "prediction",
         "type": "\"double\""
        }
       ],
       "type": "table"
      }
     },
     "output_type": "display_data"
    },
    {
     "output_type": "stream",
     "name": "stdout",
     "output_type": "stream",
     "text": [
      "0.8487084870848709\n0.8581319808525198\n0.8459081527473851\n"
     ]
    }
   ],
   "source": [
    "# define the paramGrid\n",
    "\n",
    "from pyspark.ml.tuning import ParamGridBuilder, CrossValidator\n",
    "\n",
    "paramGrid = ParamGridBuilder().addGrid(rf.maxDepth,[5,7]).addGrid(rf.numTrees,[20,30]).build()\n",
    "\n",
    "# create the crossvalidator\n",
    "cv = CrossValidator(estimator=rf, evaluator=auc, estimatorParamMaps=paramGrid)\n",
    "\n",
    "# build pipeline and have cv as part of it\n",
    "pipeline = Pipeline(stages = [si, ohe, va, cv])\n",
    "\n",
    "# train the pipeline\n",
    "pipelineModel = pipeline.fit(train)\n",
    "\n",
    "# fitted model on the test data\n",
    "rfcv_results = pipelineModel.transform(test)\n",
    "\n",
    "# predictions results (shows 5 rows of the results)\n",
    "display(rfcv_results.limit(5))\n",
    "\n",
    "# report performance metrics\n",
    "print(accuracy.evaluate(rfcv_results))\n",
    "print(auc.evaluate(rfcv_results))\n",
    "print(f1.evaluate(rfcv_results))"
   ]
  },
  {
   "cell_type": "code",
   "execution_count": 0,
   "metadata": {
    "application/vnd.databricks.v1+cell": {
     "cellMetadata": {},
     "inputWidgets": {},
     "nuid": "a19853cc-f0b7-4de0-847c-feb11c0ef18e",
     "showTitle": false,
     "title": ""
    }
   },
   "outputs": [
    {
     "output_type": "stream",
     "name": "stdout",
     "output_type": "stream",
     "text": [
      "bootstrap: Whether bootstrap samples are used when building trees. (default: True)\ncacheNodeIds: If false, the algorithm will pass trees to executors to match instances with nodes. If true, the algorithm will cache node IDs for each instance. Caching can speed up training of deeper trees. Users can set how often should the cache be checkpointed or disable it by setting checkpointInterval. (default: False)\ncheckpointInterval: set checkpoint interval (>= 1) or disable checkpoint (-1). E.g. 10 means that the cache will get checkpointed every 10 iterations. Note: this setting will be ignored if the checkpoint directory is not set in the SparkContext. (default: 10)\nfeatureSubsetStrategy: The number of features to consider for splits at each tree node. Supported options: 'auto' (choose automatically for task: If numTrees == 1, set to 'all'. If numTrees > 1 (forest), set to 'sqrt' for classification and to 'onethird' for regression), 'all' (use all features), 'onethird' (use 1/3 of the features), 'sqrt' (use sqrt(number of features)), 'log2' (use log2(number of features)), 'n' (when n is in the range (0, 1.0], use n * number of features. When n is in the range (1, number of features), use n features). default = 'auto' (default: auto)\nfeaturesCol: features column name. (default: features, current: features)\nimpurity: Criterion used for information gain calculation (case-insensitive). Supported options: entropy, gini (default: gini)\nlabelCol: label column name. (default: label, current: Survived)\nleafCol: Leaf indices column name. Predicted leaf index of each instance in each tree by preorder. (default: )\nmaxBins: Max number of bins for discretizing continuous features.  Must be >=2 and >= number of categories for any categorical feature. (default: 32)\nmaxDepth: Maximum depth of the tree. (>= 0) E.g., depth 0 means 1 leaf node; depth 1 means 1 internal node + 2 leaf nodes. Must be in range [0, 30]. (default: 5, current: 7)\nmaxMemoryInMB: Maximum memory in MB allocated to histogram aggregation. If too small, then 1 node will be split per iteration, and its aggregates may exceed this size. (default: 256)\nminInfoGain: Minimum information gain for a split to be considered at a tree node. (default: 0.0)\nminInstancesPerNode: Minimum number of instances each child must have after split. If a split causes the left or right child to have fewer than minInstancesPerNode, the split will be discarded as invalid. Should be >= 1. (default: 1)\nminWeightFractionPerNode: Minimum fraction of the weighted sample count that each child must have after split. If a split causes the fraction of the total weight in the left or right child to be less than minWeightFractionPerNode, the split will be discarded as invalid. Should be in interval [0.0, 0.5). (default: 0.0)\nnumTrees: Number of trees to train (>= 1). (default: 20, current: 20)\npredictionCol: prediction column name. (default: prediction)\nprobabilityCol: Column name for predicted class conditional probabilities. Note: Not all models output well-calibrated probability estimates! These probabilities should be treated as confidences, not precise probabilities. (default: probability)\nrawPredictionCol: raw prediction (a.k.a. confidence) column name. (default: rawPrediction)\nseed: random seed. (default: -5387697053847413545)\nsubsamplingRate: Fraction of the training data used for learning each decision tree, in range (0, 1]. (default: 1.0)\nthresholds: Thresholds in multi-class classification to adjust the probability of predicting each class. Array must have length equal to the number of classes, with values > 0, excepting that at most one value may be 0. The class with largest value p/t is predicted, where p is the original probability of that class and t is the class's threshold. (undefined)\nweightCol: weight column name. If this is not set or empty, we treat all instance weights as 1.0. (undefined)\n"
     ]
    }
   ],
   "source": [
    "# View the best model parameters\n",
    "print(pipelineModel.stages[3].bestModel.explainParams())"
   ]
  },
  {
   "cell_type": "code",
   "execution_count": 0,
   "metadata": {
    "application/vnd.databricks.v1+cell": {
     "cellMetadata": {},
     "inputWidgets": {},
     "nuid": "982e7d09-0179-46cd-9174-65f4e5825ea1",
     "showTitle": false,
     "title": ""
    }
   },
   "outputs": [],
   "source": []
  }
 ],
 "metadata": {
  "anaconda-cloud": {},
  "application/vnd.databricks.v1+notebook": {
   "dashboards": [],
   "language": "python",
   "notebookMetadata": {
    "pythonIndentUnit": 2
   },
   "notebookName": "Titanic",
   "widgets": {}
  },
  "kernelspec": {
   "display_name": "Python 3",
   "language": "python",
   "name": "python3"
  },
  "language_info": {
   "codemirror_mode": {
    "name": "ipython",
    "version": 3
   },
   "file_extension": ".py",
   "mimetype": "text/x-python",
   "name": "python",
   "nbconvert_exporter": "python",
   "pygments_lexer": "ipython3",
   "version": "3.7.3"
  },
  "name": "homework7-Solution",
  "notebookId": 3677345694457858
 },
 "nbformat": 4,
 "nbformat_minor": 0
}
